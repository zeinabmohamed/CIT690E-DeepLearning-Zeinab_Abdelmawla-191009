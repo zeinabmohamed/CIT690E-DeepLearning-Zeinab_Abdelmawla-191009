{
  "nbformat": 4,
  "nbformat_minor": 0,
  "metadata": {
    "colab": {
      "name": "Assignment_5.ipynb",
      "provenance": [],
      "authorship_tag": "ABX9TyO1wno8EV6hO5hiKEhnSbKK",
      "include_colab_link": true
    },
    "kernelspec": {
      "name": "python3",
      "display_name": "Python 3"
    },
    "language_info": {
      "name": "python"
    },
    "accelerator": "GPU"
  },
  "cells": [
    {
      "cell_type": "markdown",
      "metadata": {
        "id": "view-in-github",
        "colab_type": "text"
      },
      "source": [
        "<a href=\"https://colab.research.google.com/github/zeinabmohamed/CIT690E-DeepLearning-Zeinab_Abdelmawla-191009/blob/main/Assignment_5.ipynb\" target=\"_parent\"><img src=\"https://colab.research.google.com/assets/colab-badge.svg\" alt=\"Open In Colab\"/></a>"
      ]
    },
    {
      "cell_type": "markdown",
      "metadata": {
        "id": "rbJRzY1l6Ixv"
      },
      "source": [
        "Q1) Write a Python Colab Notebook: Use CIFAR-10 dataset and ResNet20, ResNet-32, ResNet-44 and ResNet-56 architectures in Pytorch to compute the\n",
        "classification error and the number of parameters of each architecture as reported in\n",
        "Table 6 of the following paper:\n",
        "• He, Kaiming, Xiangyu Zhang, Shaoqing Ren, and Jian Sun. \"Deep residual learning for image\n",
        "recognition.\" In Proceedings of the IEEE CVPR 2016.\n",
        "• Please note you should train your models on CIFAR-10 training set from scratch using the\n",
        "instructions given in the above paper and in particular Section 4.2 and Figure 3."
      ]
    },
    {
      "cell_type": "code",
      "metadata": {
        "id": "0eh75ObOARCO"
      },
      "source": [
        "#modelResNet20 = torch.hub.load('pytorch/vision:v0.10.0', 'resnet44', pretrained=True)\n",
        "#modelResNet20.eval()"
      ],
      "execution_count": 1,
      "outputs": []
    },
    {
      "cell_type": "code",
      "metadata": {
        "id": "rYkVbmmY56G2"
      },
      "source": [
        "import torch\n",
        "import torch.nn as nn\n",
        "from torchvision import transforms\n",
        "import torchvision.datasets as datasets\n",
        "import matplotlib.pyplot as plt\n",
        "import numpy as np\n",
        "import pandas as pd"
      ],
      "execution_count": null,
      "outputs": []
    },
    {
      "cell_type": "code",
      "metadata": {
        "id": "uE8XE2847YwS"
      },
      "source": [
        "device = torch.device(\"cuda\" if torch.cuda.is_available() else \"cpu\")"
      ],
      "execution_count": null,
      "outputs": []
    },
    {
      "cell_type": "code",
      "metadata": {
        "id": "h180D_ABMnLP"
      },
      "source": [
        "# Hyper-parameters\n",
        "num_epochs = 80\n",
        "batch_size = 100\n",
        "learning_rate = 0.001"
      ],
      "execution_count": null,
      "outputs": []
    },
    {
      "cell_type": "markdown",
      "metadata": {
        "id": "b4i4okad7L75"
      },
      "source": [
        "Load the dataset CIFAR-10"
      ]
    },
    {
      "cell_type": "code",
      "metadata": {
        "id": "CJlAGqGa7LDF"
      },
      "source": [
        "cifer10_trainset = datasets.CIFAR10(root='./data', train=True, download=True, transform=transforms.Compose([transforms.ToTensor()]))\n",
        "cifer10_testset = datasets.CIFAR10(root='./data', train=False, download=True, transform=transforms.Compose([transforms.ToTensor()]))"
      ],
      "execution_count": null,
      "outputs": []
    },
    {
      "cell_type": "code",
      "metadata": {
        "id": "5FX3Ne5p8MSW"
      },
      "source": [
        "train_dataloader = torch.utils.data.DataLoader(cifer10_trainset, batch_size=batch_size, shuffle=True)\n",
        "test_dataloader = torch.utils.data.DataLoader(cifer10_testset, batch_size=batch_size, shuffle=False)\n",
        "\n",
        "print(\"Training dataset size: \", len(cifer10_trainset))\n",
        "print(\"Testing dataset size: \", len(cifer10_testset))"
      ],
      "execution_count": null,
      "outputs": []
    },
    {
      "cell_type": "code",
      "metadata": {
        "id": "0tS5YM70KQa8"
      },
      "source": [
        "# 3x3 convolution\n",
        "def conv3x3(in_channels, out_channels, stride=1):\n",
        "    return nn.Conv2d(in_channels, out_channels, kernel_size=3, \n",
        "                     stride=stride, padding=1, bias=False)\n",
        "\n",
        "# Residual block\n",
        "class ResidualBlock(nn.Module):\n",
        "    def __init__(self, in_channels, out_channels, stride=1, downsample=None):\n",
        "        super(ResidualBlock, self).__init__()\n",
        "        self.conv1 = conv3x3(in_channels, out_channels, stride)\n",
        "        self.bn1 = nn.BatchNorm2d(out_channels)\n",
        "        self.relu = nn.ReLU(inplace=True)\n",
        "        self.conv2 = conv3x3(out_channels, out_channels)\n",
        "        self.bn2 = nn.BatchNorm2d(out_channels)\n",
        "        self.downsample = downsample\n",
        "        \n",
        "    def forward(self, x):\n",
        "        residual = x\n",
        "        out = self.conv1(x)\n",
        "        out = self.bn1(out)\n",
        "        out = self.relu(out)\n",
        "        out = self.conv2(out)\n",
        "        out = self.bn2(out)\n",
        "        if self.downsample:\n",
        "            residual = self.downsample(x)\n",
        "        out += residual\n",
        "        out = self.relu(out)\n",
        "        return out\n",
        "\n",
        "# ResNet\n",
        "class ResNet(nn.Module):\n",
        "    def __init__(self, block, layers, num_classes=10):\n",
        "        super(ResNet, self).__init__()\n",
        "        self.in_channels = 16\n",
        "        self.conv = conv3x3(3, 16)\n",
        "        self.bn = nn.BatchNorm2d(16)\n",
        "        self.relu = nn.ReLU(inplace=True)\n",
        "        self.layer1 = self.make_layer(block, 16, layers[0])\n",
        "        self.layer2 = self.make_layer(block, 32, layers[1], 2)\n",
        "        self.layer3 = self.make_layer(block, 64, layers[2], 2)\n",
        "        self.avg_pool = nn.AvgPool2d(8)\n",
        "        self.fc = nn.Linear(64, num_classes)\n",
        "        \n",
        "    def make_layer(self, block, out_channels, blocks, stride=1):\n",
        "        downsample = None\n",
        "        if (stride != 1) or (self.in_channels != out_channels):\n",
        "            downsample = nn.Sequential(\n",
        "                conv3x3(self.in_channels, out_channels, stride=stride),\n",
        "                nn.BatchNorm2d(out_channels))\n",
        "        layers = []\n",
        "        layers.append(block(self.in_channels, out_channels, stride, downsample))\n",
        "        self.in_channels = out_channels\n",
        "        for i in range(1, blocks):\n",
        "            layers.append(block(out_channels, out_channels))\n",
        "        return nn.Sequential(*layers)\n",
        "    \n",
        "    def forward(self, x):\n",
        "        out = self.conv(x)\n",
        "        out = self.bn(out)\n",
        "        out = self.relu(out)\n",
        "        out = self.layer1(out)\n",
        "        out = self.layer2(out)\n",
        "        out = self.layer3(out)\n",
        "        out = self.avg_pool(out)\n",
        "        out = out.view(out.size(0), -1)\n",
        "        out = self.fc(out)\n",
        "        return out\n",
        "    "
      ],
      "execution_count": null,
      "outputs": []
    },
    {
      "cell_type": "code",
      "metadata": {
        "id": "LTnQ_7qPRswG"
      },
      "source": [
        "def createResnetModelWithDepth(depth):\n",
        "  noOfBlocks = int((depth-2/6))\n",
        "  return ResNet(ResidualBlock, [noOfBlocks, noOfBlocks, noOfBlocks]).to(device)"
      ],
      "execution_count": null,
      "outputs": []
    },
    {
      "cell_type": "code",
      "metadata": {
        "id": "UxUaxMn5NAO1"
      },
      "source": [
        "# For updating learning rate\n",
        "def update_lr(optimizer, lr):    \n",
        "    for param_group in optimizer.param_groups:\n",
        "        param_group['lr'] = lr"
      ],
      "execution_count": null,
      "outputs": []
    },
    {
      "cell_type": "code",
      "metadata": {
        "id": "HC4nxMq4N_el"
      },
      "source": [
        "# Train the model\n",
        "import os\n",
        "\n",
        "def trainModel(model,depth):\n",
        "  # Loss and optimizer\n",
        "  criterion = nn.CrossEntropyLoss()\n",
        "  optimizer = torch.optim.Adam(model.parameters(), lr=learning_rate)\n",
        "\n",
        "  outdir ='./results'\n",
        "  if not os.path.exists(outdir):\n",
        "    os.mkdir(outdir)\n",
        "\n",
        "  cols = ['epoch', 'train_loss', 'train_err', 'test_err']\n",
        "  results_df = pd.DataFrame(columns=cols).set_index('epoch')\n",
        "  \n",
        "  total_step = len(train_dataloader)\n",
        "  curr_lr = learning_rate\n",
        "  results_file = f'results/resnet{depth}.csv'\n",
        "\n",
        "  for epoch in range(num_epochs):\n",
        "    running_loss  = 0.0\n",
        "    best_test_err = 1.0\n",
        "\n",
        "    for i, (images, labels) in enumerate(train_dataloader):\n",
        "        images = images.to(device)\n",
        "        labels = labels.to(device)\n",
        "        \n",
        "        # Forward pass\n",
        "        outputs = model(images)\n",
        "        loss = criterion(outputs, labels)\n",
        "        \n",
        "        # Backward and optimize\n",
        "        optimizer.zero_grad()\n",
        "        loss.backward()\n",
        "        optimizer.step()\n",
        "        \n",
        "        # print average loss for last 50 mini-batches\n",
        "        running_loss += loss.item()\n",
        "\n",
        "        if (i+1) % 100 == 0:\n",
        "            print (\"Epoch [{}/{}], Step [{}/{}] Loss: {:.4f}\"\n",
        "                   .format(epoch+1, num_epochs, i+1, total_step, loss.item()))\n",
        "    \n",
        "    # Decay learning rate\n",
        "    if (epoch+1) % 20 == 0:\n",
        "        curr_lr /= 3\n",
        "        update_lr(optimizer, curr_lr)\n",
        "    \n",
        "    train_loss = loss.item()\n",
        "    train_err = evaluate(model, train_dataloader, device)\n",
        "    test_err = evaluate(model, test_dataloader, device)\n",
        "    results_df.loc[epoch] = [train_loss, train_err, test_err]\n",
        "    results_df.to_csv(results_file)\n",
        "    print(f'train_err: {train_err} test_err: {test_err}')\n",
        "\n",
        "    model.eval()\n",
        "\n",
        "  return train_loss\n"
      ],
      "execution_count": null,
      "outputs": []
    },
    {
      "cell_type": "code",
      "metadata": {
        "id": "B8ZGqesQ0w5d"
      },
      "source": [
        "def evaluate(model, data_loader, device):\n",
        "    y_true = np.array([], dtype=np.int)\n",
        "    y_pred = np.array([], dtype=np.int)\n",
        "    \n",
        "    with torch.no_grad():\n",
        "      for data in data_loader:\n",
        "          inputs, labels = data\n",
        "          inputs, labels = inputs.to(device), labels.to(device)\n",
        "          outputs = model(inputs)\n",
        "          _, predicted = torch.max(outputs.data, 1)\n",
        "\n",
        "          y_true = np.concatenate((y_true, labels.cpu()))\n",
        "          y_pred = np.concatenate((y_pred, predicted.cpu()))\n",
        "    \n",
        "    error = np.sum(y_pred != y_true) / len(y_true)\n",
        "    return error\n"
      ],
      "execution_count": null,
      "outputs": []
    },
    {
      "cell_type": "code",
      "metadata": {
        "id": "naboNYuBUA89"
      },
      "source": [
        "# Test the model\n",
        "def testModel(model):\n",
        "  model.eval()\n",
        "  with torch.no_grad():\n",
        "    correct = 0\n",
        "    total = 0\n",
        "    for images, labels in test_dataloader:\n",
        "        images = images.to(device)\n",
        "        labels = labels.to(device)\n",
        "        outputs = model(images)\n",
        "        _, predicted = torch.max(outputs.data, 1)\n",
        "        total += labels.size(0)\n",
        "        correct += (predicted == labels).sum().item()\n",
        "\n",
        "  print('Accuracy of the model on the test images: {} %'.format(100 * correct / total))"
      ],
      "execution_count": null,
      "outputs": []
    },
    {
      "cell_type": "code",
      "metadata": {
        "id": "pkHuuAtTbZhy"
      },
      "source": [
        "#Calculate the total number of parameters for model stride 2\n",
        "from prettytable import PrettyTable\n",
        "\n",
        "def calculateModelParams(model):\n",
        "    table = PrettyTable([\"Modules\", \"Parameters\"])\n",
        "    total_params = 0\n",
        "    for name, parameter in model.named_parameters():\n",
        "        if not parameter.requires_grad: continue\n",
        "        param = parameter.numel()\n",
        "        table.add_row([name, param])\n",
        "        total_params+=param\n",
        "    print(table)\n",
        "    print(f\"Total Trainable Params: {total_params}\")\n",
        "    return total_params"
      ],
      "execution_count": null,
      "outputs": []
    },
    {
      "cell_type": "code",
      "metadata": {
        "id": "EFBMwQ46ULsY"
      },
      "source": [
        "# Save the model checkpoint\n",
        "def saveModel(model,layerNo):\n",
        "  snapShotName = \"resnet%s.ckpt\" % (layerNo)\n",
        "  torch.save(model.state_dict(), snapShotName)\n",
        "  print(snapShotName)"
      ],
      "execution_count": null,
      "outputs": []
    },
    {
      "cell_type": "markdown",
      "metadata": {
        "id": "k7lgHZyXWSnq"
      },
      "source": [
        "**Resnet20**"
      ]
    },
    {
      "cell_type": "code",
      "metadata": {
        "id": "Gen3oqlRWRCp"
      },
      "source": [
        "resnet20Model = createResnetModelWithDepth(20)\n",
        "trainModel(resnet20Model,20)\n",
        "testModel(resnet20Model)\n",
        "saveModel(resnet20Model,20)"
      ],
      "execution_count": null,
      "outputs": []
    },
    {
      "cell_type": "markdown",
      "metadata": {
        "id": "jQsM4rrTYLdw"
      },
      "source": [
        "**Resnet32**"
      ]
    },
    {
      "cell_type": "code",
      "metadata": {
        "id": "ifgBfAzVZ81P"
      },
      "source": [
        "resnet32Model = createResnetModelWithDepth(32)\n",
        "trainModel(resnet32Model)\n",
        "testModel(resnet32Model)\n",
        "saveModel(resnet32Model,32)"
      ],
      "execution_count": null,
      "outputs": []
    },
    {
      "cell_type": "markdown",
      "metadata": {
        "id": "AzW3PdDuYTsC"
      },
      "source": [
        "**Resnet44**"
      ]
    },
    {
      "cell_type": "code",
      "metadata": {
        "id": "uyxKW5mzaFeJ"
      },
      "source": [
        "resnet44Model = createResnetModelWithDepth(44)\n",
        "trainModel(resnet44Model)\n",
        "testModel(resnet44Model)\n",
        "saveModel(resnet44Model,44)"
      ],
      "execution_count": null,
      "outputs": []
    },
    {
      "cell_type": "markdown",
      "metadata": {
        "id": "NULlJaGtYVL5"
      },
      "source": [
        "**Resnet56**"
      ]
    },
    {
      "cell_type": "code",
      "metadata": {
        "id": "mqjIFm7MaJBL"
      },
      "source": [
        "resnet56Model = createResnetModelWithDepth(56)\n",
        "trainModel(resnet56Model)\n",
        "testModel(resnet56Model)\n",
        "saveModel(resnet56Model,56)"
      ],
      "execution_count": null,
      "outputs": []
    },
    {
      "cell_type": "code",
      "metadata": {
        "id": "z8FwFIy4iIQn"
      },
      "source": [
        "calculateModelParams(resnet20Model)\n",
        "calculateModelParams(resnet32Model)\n",
        "calculateMod9elParams(resnet44Model)\n",
        "calculateModelParams(resnet56Model)"
      ],
      "execution_count": null,
      "outputs": []
    }
  ]
}