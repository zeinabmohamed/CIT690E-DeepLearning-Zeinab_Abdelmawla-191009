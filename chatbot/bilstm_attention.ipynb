{
  "nbformat": 4,
  "nbformat_minor": 0,
  "metadata": {
    "colab": {
      "name": "Untitled4.ipynb",
      "provenance": [],
      "collapsed_sections": [],
      "machine_shape": "hm",
      "include_colab_link": true
    },
    "kernelspec": {
      "name": "python3",
      "display_name": "Python 3"
    },
    "language_info": {
      "name": "python"
    },
    "accelerator": "GPU"
  },
  "cells": [
    {
      "cell_type": "markdown",
      "metadata": {
        "id": "view-in-github",
        "colab_type": "text"
      },
      "source": [
        "<a href=\"https://colab.research.google.com/github/zeinabmohamed/CIT690E-DeepLearning-Zeinab_Abdelmawla-191009/blob/main/chatbot/bilstm_attention.ipynb\" target=\"_parent\"><img src=\"https://colab.research.google.com/assets/colab-badge.svg\" alt=\"Open In Colab\"/></a>"
      ]
    },
    {
      "cell_type": "code",
      "source": [
        "from keras import backend as K\n",
        "from keras.layers import Layer\n",
        "from keras.preprocessing.sequence import pad_sequences\n",
        "import numpy as np\n",
        "import itertools\n",
        "\n",
        "'''\n",
        "This configuration file provides a series of predefined functions\n",
        "'''\n",
        "\n",
        "\n",
        "# ------------------custom function------------------ #\n",
        "\n",
        "def text_to_word_list(text):  # 文本分词\n",
        "    text = str(text)\n",
        "    text = text.lower()\n",
        "    # Text cleaning rules for English text\n",
        "    import re\n",
        "    text = re.sub(r\"[^A-Za-z0-9^,!.\\/'+-=]\", \" \", text)\n",
        "    text = re.sub(r\"what's\", \"what is \", text)\n",
        "    text = re.sub(r\"\\'s\", \" \", text)\n",
        "    text = re.sub(r\"\\'ve\", \" have \", text)\n",
        "    text = re.sub(r\"can't\", \"cannot \", text)\n",
        "    text = re.sub(r\"n't\", \" not \", text)\n",
        "    text = re.sub(r\"i'm\", \"i am \", text)\n",
        "    text = re.sub(r\"\\'re\", \" are \", text)\n",
        "    text = re.sub(r\"\\'d\", \" would \", text)\n",
        "    text = re.sub(r\"\\'ll\", \" will \", text)\n",
        "    text = re.sub(r\",\", \" \", text)\n",
        "    text = re.sub(r\"\\.\", \" \", text)\n",
        "    text = re.sub(r\"!\", \" ! \", text)\n",
        "    text = re.sub(r\"\\/\", \" \", text)\n",
        "    text = re.sub(r\"\\^\", \" ^ \", text)\n",
        "    text = re.sub(r\"\\+\", \" + \", text)\n",
        "    text = re.sub(r\"\\-\", \" - \", text)\n",
        "    text = re.sub(r\"\\=\", \" = \", text)\n",
        "    text = re.sub(r\"'\", \" \", text)\n",
        "    text = re.sub(r\"(\\d+)(k)\", r\"\\g<1>000\", text)\n",
        "    text = re.sub(r\":\", \" : \", text)\n",
        "    text = re.sub(r\" e g \", \" eg \", text)\n",
        "    text = re.sub(r\" b g \", \" bg \", text)\n",
        "    text = re.sub(r\" u s \", \" american \", text)\n",
        "    text = re.sub(r\"\\0s\", \"0\", text)\n",
        "    text = re.sub(r\" 9 11 \", \"911\", text)\n",
        "    text = re.sub(r\"e - mail\", \"email\", text)\n",
        "    text = re.sub(r\"j k\", \"jk\", text)\n",
        "    text = re.sub(r\"\\s{2,}\", \" \", text)\n",
        "\n",
        "    text = text.split()\n",
        "\n",
        "    return text\n",
        "\n",
        "def make_w2v_embeddings(flag, word2vec, df, embedding_dim):  # 将词转化为词向量\n",
        "    vocabs = {}  # 词序号\n",
        "    vocabs_count = 0  # 词个数计数器\n",
        "\n",
        "    vocabs_not_w2v = {}  # 无法用词向量表示的词\n",
        "    vocabs_not_w2v_count = 0  # Word count that cannot be represented by word vectors\n",
        "\n",
        "    # 停用词\n",
        "    # stops = set(open('data/stopwords.txt').read().strip().split('\\n'))\n",
        "\n",
        "    for index, row in df.iterrows():\n",
        "        # 打印处理进度\n",
        "        if index != 0 and index % 1000 == 0:\n",
        "            print(str(index) + \" sentences embedded.\")\n",
        "\n",
        "        for question in ['question1', 'question2']:\n",
        "            q2n = []  # q2n -> question to numbers representation\n",
        "            words = text_to_word_list(row[question])\n",
        "\n",
        "            for word in words:\n",
        "                # if word in stops:  # remove stop words\n",
        "                # continue\n",
        "                # The word of OOV is put into a dictionary that cannot be represented by a word vector, and the value is 1\n",
        "                if word not in word2vec and word not in vocabs_not_w2v:  \n",
        "                    vocabs_not_w2v_count += 1\n",
        "                    vocabs_not_w2v[word] = 1   \n",
        "                if word not in vocabs:  # Non-OOV words, extract the corresponding id\n",
        "                    vocabs_count += 1\n",
        "                    vocabs[word] = vocabs_count\n",
        "                    q2n.append(vocabs_cnt)\n",
        "                else:\n",
        "                    q2n.append(vocabs[word])\n",
        "            df.at[index, question + '_n'] = q2n\n",
        "\n",
        "    embeddings = 1 * np.random.randn(len(vocabs) + 1, embedding_dim)  # 随机初始化一个形状为[全部词个数，词向量维度]的矩阵\n",
        "    '''\n",
        "    词1 [a1, a2, a3, ..., a60]\n",
        "    词2 [b1, b2, b3, ..., b60]\n",
        "    词3 [c1, c2, c3, ..., c60]\n",
        "    '''\n",
        "    embeddings[0] = 0  # 第一行用0填充，因为不存在index为0的词\n",
        "\n",
        "    for index in vocabs:\n",
        "        vocab_word = vocabs[index]\n",
        "        if vocab_word in word2vec:\n",
        "            embeddings[index] = word2vec[vocab_word]\n",
        "    del word2vec\n",
        "\n",
        "    return df, embeddings\n",
        "\n",
        "\n",
        "def split_and_zero_padding(df, max_seq_length):  # 调整tokens长度\n",
        "\n",
        "    # 训练集矩阵转换成字典\n",
        "    X = {'left': df['question1_n'], 'right': df['question2_n']}\n",
        "\n",
        "    # 调整到规定长度\n",
        "    for dataset, side in itertools.product([X], ['left', 'right']):\n",
        "        dataset[side] = pad_sequences(dataset[side], padding='pre', truncating='post', maxlen=max_seq_length)\n",
        "\n",
        "    return dataset\n",
        "\n",
        "\n",
        "class ManDist(Layer):  # 封装成keras层的曼哈顿距离计算\n",
        "\n",
        "    # 初始化ManDist层，此时不需要任何参数输入\n",
        "    def __init__(self, **kwargs):\n",
        "        self.result = None\n",
        "        super(ManDist, self).__init__(**kwargs)\n",
        "\n",
        "    # Automatically build ManDist layer\n",
        "    def build(self, input_shape):\n",
        "        super(ManDist, self).build(input_shape)\n",
        "\n",
        "    # Calculate Manhattan distance\n",
        "    def call(self, x, **kwargs):\n",
        "        self.result = K.exp(-K.sum(K.abs(x[0] - x[1]), axis=1, keepdims=True))\n",
        "        return self.result\n",
        "\n",
        "    # return result\n",
        "    def compute_output_shape(self, input_shape):\n",
        "        return K.int_shape(self.result)"
      ],
      "metadata": {
        "id": "6WqiKm9jiNZv"
      },
      "execution_count": null,
      "outputs": []
    },
    {
      "cell_type": "markdown",
      "source": [
        ""
      ],
      "metadata": {
        "id": "gnYJFm6O7s3x"
      }
    },
    {
      "cell_type": "code",
      "execution_count": 4,
      "metadata": {
        "id": "nAYrj7QKg9vy"
      },
      "outputs": [],
      "source": [
        "# Basic package\n",
        "from time import time\n",
        "import pandas as pd\n",
        "from sklearn.model_selection import train_test_split\n",
        "import keras\n",
        "from gensim.models import KeyedVectors\n",
        "from keras.models import Model\n",
        "from keras.layers import Input, Embedding, LSTM, Dense, Flatten, Activation, RepeatVector, Permute, Lambda, \\\n",
        "    Bidirectional, TimeDistributed, Dropout, Conv1D, GlobalMaxPool1D\n",
        "from keras.layers.merge import multiply, concatenate\n",
        "import keras.backend as K\n",
        "from tensorflow.keras.optimizers import Adam"
      ]
    },
    {
      "cell_type": "code",
      "source": [
        "!pip install wget\n",
        "\n",
        "import wget\n",
        "url = 'https://s3.amazonaws.com/dl4j-distribution/GoogleNews-vectors-negative300.bin.gz'\n",
        "filename = wget.download(url)"
      ],
      "metadata": {
        "id": "wQbCm59mj2_F"
      },
      "execution_count": null,
      "outputs": []
    },
    {
      "cell_type": "code",
      "source": [
        "! pip install kaggle\n",
        "! mkdir -p ~/.kaggle\n",
        "! cp kaggle.json ~/.kaggle/\n",
        "! chmod 600 ~/.kaggle/kaggle.json\n",
        "! kaggle competitions download quora-question-pairs -f train.csv.zip\n",
        "#! kaggle competitions download quora-question-pairs -f test.csv.zip"
      ],
      "metadata": {
        "id": "Im__Fm2-m17Z"
      },
      "execution_count": null,
      "outputs": []
    },
    {
      "cell_type": "code",
      "source": [
        "#! unzip -o test.csv.zip\n",
        "! unzip -o train.csv.zip"
      ],
      "metadata": {
        "id": "9Hb2fGMynFYm"
      },
      "execution_count": null,
      "outputs": []
    },
    {
      "cell_type": "code",
      "source": [
        "# ------------------Preloading------------------ #\n",
        "\n",
        "# Chinese and English training options, English training set is used by default\n",
        "TRAIN_CSV = './train.csv'\n",
        "flag = 'en'\n",
        "embedding_path = 'GoogleNews-vectors-negative300.bin.gz'\n",
        "embedding_dim = 300\n",
        "max_seq_length = 10\n",
        "savepath = './en_SiameseLSTM.h5'"
      ],
      "metadata": {
        "id": "V5sUkwgPicuf"
      },
      "execution_count": 8,
      "outputs": []
    },
    {
      "cell_type": "code",
      "source": [
        "# Whether to enable pre-trained word vectors, use randomly initialized word vectors by default\n",
        "# Load word vectors\n",
        "print(\"Loading word2vec model(it may takes 2-3 mins) ...\")\n",
        "embedding_dict = KeyedVectors.load_word2vec_format(embedding_path, binary=True)\n"
      ],
      "metadata": {
        "id": "PieHmagRi5sr"
      },
      "execution_count": null,
      "outputs": []
    },
    {
      "cell_type": "code",
      "source": [
        "# Read and load the training set\n",
        "train_df = pd.read_csv(TRAIN_CSV)\n",
        "for q in ['question1', 'question2']:\n",
        "    train_df[q + '_n'] = train_df[q]"
      ],
      "metadata": {
        "id": "BHXXixPAjncI"
      },
      "execution_count": 9,
      "outputs": []
    },
    {
      "cell_type": "code",
      "source": [
        "# Vectorize the training set words\n",
        "train_df, embeddings = make_w2v_embeddings(flag, embedding_dict, train_df, embedding_dim=embedding_dim)"
      ],
      "metadata": {
        "id": "vnfQ3utBj_eQ"
      },
      "execution_count": null,
      "outputs": []
    },
    {
      "cell_type": "code",
      "source": [
        "# max_seq_length_in_dataset\n",
        "max_seq_length_in_dataset = max(train_df.question1_n.map(lambda x: len(x)).max(),\n",
        "                     train_df.question2_n.map(lambda x: len(x)).max())\n",
        "print(\"max_seq_length_in_dataset : \",max_seq_length_in_dataset)\n"
      ],
      "metadata": {
        "id": "P4QNwKEM9K4o"
      },
      "execution_count": null,
      "outputs": []
    },
    {
      "cell_type": "code",
      "source": [
        "train_df.head()"
      ],
      "metadata": {
        "id": "sbuflcpcyhUN"
      },
      "execution_count": null,
      "outputs": []
    },
    {
      "cell_type": "markdown",
      "source": [
        "Take the training data from:\n",
        "question1   question2   is_duplicate\n",
        "borrow Repayment Information Borrow Repayment Date 0\n",
        "become:\n",
        "\n",
        "question1 question2 is_duplicate question1_n question2_n\n",
        "Borrow repayment information Borrow repayment date 0 Borrow repayment information Borrow repayment date\n",
        "\n",
        "After becoming id:\n",
        "question1 question2 is_duplicate question1_n question2_n\n",
        "Borrow repayment information Borrow repayment date 0 [31, 639] [31, 255]"
      ],
      "metadata": {
        "id": "QAJs7oCBkXnC"
      }
    },
    {
      "cell_type": "code",
      "source": [
        "# Split training set\n",
        "X = train_df[['question1_n', 'question2_n']]\n",
        "Y = train_df['is_duplicate']\n",
        "X_train, X_validation, Y_train, Y_validation = train_test_split(X, Y, test_size=0.2)\n",
        "\n",
        "X_train = split_and_zero_padding(X_train, max_seq_length)\n",
        "X_validation = split_and_zero_padding(X_validation, max_seq_length)"
      ],
      "metadata": {
        "id": "6spfcp5HkFs1"
      },
      "execution_count": null,
      "outputs": []
    },
    {
      "cell_type": "code",
      "source": [
        "# Convert labels to numbers\n",
        "Y_train = Y_train.values\n",
        "Y_validation = Y_validation.values"
      ],
      "metadata": {
        "id": "3StaNp6ukRgP"
      },
      "execution_count": null,
      "outputs": []
    },
    {
      "cell_type": "code",
      "source": [
        "# Confirm that the data is prepared and correct\n",
        "print(\"X_train['left'].shape\" , X_train['left'].shape)\n",
        "print(\"X_train['right'].shape\" , X_train['left'].shape)\n",
        "print(\"len(X_train['left'])\" , len(X_train['left']))\n",
        "print(\"len(Y_train)\" , len(Y_train))\n",
        "\n",
        "assert X_train['left'].shape == X_train['right'].shape\n",
        "assert len(X_train['left']) == len(Y_train)"
      ],
      "metadata": {
        "id": "gdI_duEkk3HH"
      },
      "execution_count": null,
      "outputs": []
    },
    {
      "cell_type": "code",
      "source": [
        "print(Y_validation)"
      ],
      "metadata": {
        "colab": {
          "base_uri": "https://localhost:8080/"
        },
        "id": "rC3heYbFq7lF",
        "outputId": "ce4a94af-0353-4c4d-ecc8-deddaf54836d"
      },
      "execution_count": null,
      "outputs": [
        {
          "output_type": "stream",
          "name": "stdout",
          "text": [
            "[0 0 0 ... 0 1 1]\n"
          ]
        }
      ]
    },
    {
      "cell_type": "markdown",
      "source": [
        "# -----------------base function------------------ #\n"
      ],
      "metadata": {
        "id": "fYMK4WfglDsW"
      }
    },
    {
      "cell_type": "code",
      "source": [
        "def shared_model(_input):\n",
        "    # word vectorization\n",
        "    embedded = Embedding(len(embeddings), embedding_dim, weights=[embeddings], input_shape=(max_seq_length,),\n",
        "                         trainable=False)(_input)\n",
        "\n",
        "    # multilayerBi-LSTM\n",
        "    activations = Bidirectional(LSTM(n_hidden, return_sequences=True), merge_mode='concat')(embedded)\n",
        "    activations = Bidirectional(LSTM(n_hidden, return_sequences=True), merge_mode='concat')(activations)\n",
        "\n",
        "    # dropout\n",
        "    activations = Dropout(0.5)(activations)\n",
        "\n",
        "    # Attention\n",
        "    attention = TimeDistributed(Dense(1, activation='tanh'))(activations)\n",
        "    attention = Flatten()(attention)\n",
        "    attention = Activation('softmax')(attention)\n",
        "    attention = RepeatVector(n_hidden * 2)(attention)\n",
        "    attention = Permute([2, 1])(attention)\n",
        "    sent_representation = multiply([activations, attention])\n",
        "    sent_representation = Lambda(lambda xin: K.sum(xin, axis=1))(sent_representation)\n",
        "\n",
        "    # dropout\n",
        "    sent_representation = Dropout(0.1)(sent_representation)\n",
        "\n",
        "    return sent_representation"
      ],
      "metadata": {
        "id": "GQYxnMOYk92f"
      },
      "execution_count": null,
      "outputs": []
    },
    {
      "cell_type": "code",
      "source": [
        "if __name__ == '__main__':\n",
        "\n",
        "    # Hyperparameter\n",
        "    batch_size = 1024\n",
        "    n_epoch = 9\n",
        "    n_hidden = 50\n",
        "\n",
        "    left_input = Input(shape=(max_seq_length,), dtype='float32')\n",
        "    right_input = Input(shape=(max_seq_length,), dtype='float32')\n",
        "\n",
        "    left_sen_representation = shared_model(left_input)\n",
        "    right_sen_representation = shared_model(right_input)\n",
        "\n",
        "    # The Manhattan distance is introduced, and the original \n",
        "    #vector on the obtained transformation concat is \n",
        "    #then subjected to a non-linear transformation \n",
        "    #through a multi-layer DNN, and the sigmoid obtains the similarity\n",
        "    \n",
        "    # I did not use the Mahalanobis distance mentioned \n",
        "    #in https://zhuanlan.zhihu.com/p/31638132. \n",
        "    #I tried Manhattan distance, point product and cos, \n",
        "    #and Manhattan is the best.\n",
        "    \n",
        "    man_distance = ManDist()([left_sen_representation, right_sen_representation])\n",
        "    sen_representation = concatenate([left_sen_representation, right_sen_representation, man_distance])\n",
        "    similarity = Dense(1, activation='sigmoid')(Dense(2)(Dense(4)(Dense(16)(sen_representation))))\n",
        "    model = Model(inputs=[left_input, right_input], outputs=[similarity])\n",
        "\n",
        "    model.compile(loss='mean_squared_error', optimizer= Adam(), metrics=['accuracy'])\n",
        "    model.summary()\n",
        "\n",
        "    training_start_time = time()\n",
        "    malstm_trained = model.fit([X_train['left'], X_train['right']], Y_train,\n",
        "                               batch_size=batch_size, epochs=n_epoch,\n",
        "                               validation_data=([X_validation['left'], X_validation['right']], Y_validation))\n",
        "    training_end_time = time()\n",
        "    print(\"Training time finished.\\n%d epochs in %12.2f\" % (n_epoch, training_end_time - training_start_time))"
      ],
      "metadata": {
        "id": "Me8wi2gGljNx"
      },
      "execution_count": null,
      "outputs": []
    },
    {
      "cell_type": "code",
      "source": [
        "# Plot accuracy\n",
        "plt.plot(malstm_trained.history['accuracy'])\n",
        "plt.plot(malstm_trained.history['val_accuracy'])\n",
        "plt.title('Model Accuracy')\n",
        "plt.ylabel('Accuracy')\n",
        "plt.xlabel('Epoch')\n",
        "#plt.legend(['Train', 'Validation'], loc='upper left')\n",
        "plt.show()\n",
        "\n",
        "# Plot loss\n",
        "plt.plot(malstm_trained.history['loss'])\n",
        "plt.plot(malstm_trained.history['val_loss'])\n",
        "plt.title('Model Loss')\n",
        "plt.ylabel('Loss')\n",
        "plt.xlabel('Epoch')\n",
        "#plt.legend(['Train', 'Validation'], loc='upper right')\n",
        "plt.show()"
      ],
      "metadata": {
        "id": "ZTUMrUo-l0JW"
      },
      "execution_count": null,
      "outputs": []
    }
  ]
}