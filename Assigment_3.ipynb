{
  "nbformat": 4,
  "nbformat_minor": 0,
  "metadata": {
    "colab": {
      "name": "Copy of Assigment#3.ipynb",
      "provenance": [],
      "collapsed_sections": [],
      "include_colab_link": true
    },
    "kernelspec": {
      "display_name": "Python 3",
      "name": "python3"
    },
    "language_info": {
      "name": "python"
    },
    "accelerator": "GPU",
    "widgets": {
      "application/vnd.jupyter.widget-state+json": {
        "6a5a830a3fd64bd5b2b246877e5e190e": {
          "model_module": "@jupyter-widgets/controls",
          "model_name": "HBoxModel",
          "model_module_version": "1.5.0",
          "state": {
            "_view_name": "HBoxView",
            "_dom_classes": [],
            "_model_name": "HBoxModel",
            "_view_module": "@jupyter-widgets/controls",
            "_model_module_version": "1.5.0",
            "_view_count": null,
            "_view_module_version": "1.5.0",
            "box_style": "",
            "layout": "IPY_MODEL_ca0cac0f6efe4c9ea1022562d1ebbdd4",
            "_model_module": "@jupyter-widgets/controls",
            "children": [
              "IPY_MODEL_559baa8834a543b4bf78f94469f6a095",
              "IPY_MODEL_858b47d8ea3f4ca3b0799cdabdcc88a1",
              "IPY_MODEL_bc6ab019ce0d48acb7914c0f7e583c57"
            ]
          }
        },
        "ca0cac0f6efe4c9ea1022562d1ebbdd4": {
          "model_module": "@jupyter-widgets/base",
          "model_name": "LayoutModel",
          "model_module_version": "1.2.0",
          "state": {
            "_view_name": "LayoutView",
            "grid_template_rows": null,
            "right": null,
            "justify_content": null,
            "_view_module": "@jupyter-widgets/base",
            "overflow": null,
            "_model_module_version": "1.2.0",
            "_view_count": null,
            "flex_flow": null,
            "width": null,
            "min_width": null,
            "border": null,
            "align_items": null,
            "bottom": null,
            "_model_module": "@jupyter-widgets/base",
            "top": null,
            "grid_column": null,
            "overflow_y": null,
            "overflow_x": null,
            "grid_auto_flow": null,
            "grid_area": null,
            "grid_template_columns": null,
            "flex": null,
            "_model_name": "LayoutModel",
            "justify_items": null,
            "grid_row": null,
            "max_height": null,
            "align_content": null,
            "visibility": null,
            "align_self": null,
            "height": null,
            "min_height": null,
            "padding": null,
            "grid_auto_rows": null,
            "grid_gap": null,
            "max_width": null,
            "order": null,
            "_view_module_version": "1.2.0",
            "grid_template_areas": null,
            "object_position": null,
            "object_fit": null,
            "grid_auto_columns": null,
            "margin": null,
            "display": null,
            "left": null
          }
        },
        "559baa8834a543b4bf78f94469f6a095": {
          "model_module": "@jupyter-widgets/controls",
          "model_name": "HTMLModel",
          "model_module_version": "1.5.0",
          "state": {
            "_view_name": "HTMLView",
            "style": "IPY_MODEL_c643934a5e3846a8bc77b83c7dce8e48",
            "_dom_classes": [],
            "description": "",
            "_model_name": "HTMLModel",
            "placeholder": "​",
            "_view_module": "@jupyter-widgets/controls",
            "_model_module_version": "1.5.0",
            "value": "",
            "_view_count": null,
            "_view_module_version": "1.5.0",
            "description_tooltip": null,
            "_model_module": "@jupyter-widgets/controls",
            "layout": "IPY_MODEL_2ef1ee8f4da449d5b7d40abe8e06d195"
          }
        },
        "858b47d8ea3f4ca3b0799cdabdcc88a1": {
          "model_module": "@jupyter-widgets/controls",
          "model_name": "FloatProgressModel",
          "model_module_version": "1.5.0",
          "state": {
            "_view_name": "ProgressView",
            "style": "IPY_MODEL_a4166e5ca1484bf0a7f1b4259c7eccd3",
            "_dom_classes": [],
            "description": "",
            "_model_name": "FloatProgressModel",
            "bar_style": "success",
            "max": 9912422,
            "_view_module": "@jupyter-widgets/controls",
            "_model_module_version": "1.5.0",
            "value": 9912422,
            "_view_count": null,
            "_view_module_version": "1.5.0",
            "orientation": "horizontal",
            "min": 0,
            "description_tooltip": null,
            "_model_module": "@jupyter-widgets/controls",
            "layout": "IPY_MODEL_f584fae4e8c542f5923f80eb2917e81a"
          }
        },
        "bc6ab019ce0d48acb7914c0f7e583c57": {
          "model_module": "@jupyter-widgets/controls",
          "model_name": "HTMLModel",
          "model_module_version": "1.5.0",
          "state": {
            "_view_name": "HTMLView",
            "style": "IPY_MODEL_30ee8b7af16e4171b2708cffb5725908",
            "_dom_classes": [],
            "description": "",
            "_model_name": "HTMLModel",
            "placeholder": "​",
            "_view_module": "@jupyter-widgets/controls",
            "_model_module_version": "1.5.0",
            "value": " 9913344/? [00:00&lt;00:00, 50104875.96it/s]",
            "_view_count": null,
            "_view_module_version": "1.5.0",
            "description_tooltip": null,
            "_model_module": "@jupyter-widgets/controls",
            "layout": "IPY_MODEL_d80be5402fae4c56b01b1c17f4ce5a32"
          }
        },
        "c643934a5e3846a8bc77b83c7dce8e48": {
          "model_module": "@jupyter-widgets/controls",
          "model_name": "DescriptionStyleModel",
          "model_module_version": "1.5.0",
          "state": {
            "_view_name": "StyleView",
            "_model_name": "DescriptionStyleModel",
            "description_width": "",
            "_view_module": "@jupyter-widgets/base",
            "_model_module_version": "1.5.0",
            "_view_count": null,
            "_view_module_version": "1.2.0",
            "_model_module": "@jupyter-widgets/controls"
          }
        },
        "2ef1ee8f4da449d5b7d40abe8e06d195": {
          "model_module": "@jupyter-widgets/base",
          "model_name": "LayoutModel",
          "model_module_version": "1.2.0",
          "state": {
            "_view_name": "LayoutView",
            "grid_template_rows": null,
            "right": null,
            "justify_content": null,
            "_view_module": "@jupyter-widgets/base",
            "overflow": null,
            "_model_module_version": "1.2.0",
            "_view_count": null,
            "flex_flow": null,
            "width": null,
            "min_width": null,
            "border": null,
            "align_items": null,
            "bottom": null,
            "_model_module": "@jupyter-widgets/base",
            "top": null,
            "grid_column": null,
            "overflow_y": null,
            "overflow_x": null,
            "grid_auto_flow": null,
            "grid_area": null,
            "grid_template_columns": null,
            "flex": null,
            "_model_name": "LayoutModel",
            "justify_items": null,
            "grid_row": null,
            "max_height": null,
            "align_content": null,
            "visibility": null,
            "align_self": null,
            "height": null,
            "min_height": null,
            "padding": null,
            "grid_auto_rows": null,
            "grid_gap": null,
            "max_width": null,
            "order": null,
            "_view_module_version": "1.2.0",
            "grid_template_areas": null,
            "object_position": null,
            "object_fit": null,
            "grid_auto_columns": null,
            "margin": null,
            "display": null,
            "left": null
          }
        },
        "a4166e5ca1484bf0a7f1b4259c7eccd3": {
          "model_module": "@jupyter-widgets/controls",
          "model_name": "ProgressStyleModel",
          "model_module_version": "1.5.0",
          "state": {
            "_view_name": "StyleView",
            "_model_name": "ProgressStyleModel",
            "description_width": "",
            "_view_module": "@jupyter-widgets/base",
            "_model_module_version": "1.5.0",
            "_view_count": null,
            "_view_module_version": "1.2.0",
            "bar_color": null,
            "_model_module": "@jupyter-widgets/controls"
          }
        },
        "f584fae4e8c542f5923f80eb2917e81a": {
          "model_module": "@jupyter-widgets/base",
          "model_name": "LayoutModel",
          "model_module_version": "1.2.0",
          "state": {
            "_view_name": "LayoutView",
            "grid_template_rows": null,
            "right": null,
            "justify_content": null,
            "_view_module": "@jupyter-widgets/base",
            "overflow": null,
            "_model_module_version": "1.2.0",
            "_view_count": null,
            "flex_flow": null,
            "width": null,
            "min_width": null,
            "border": null,
            "align_items": null,
            "bottom": null,
            "_model_module": "@jupyter-widgets/base",
            "top": null,
            "grid_column": null,
            "overflow_y": null,
            "overflow_x": null,
            "grid_auto_flow": null,
            "grid_area": null,
            "grid_template_columns": null,
            "flex": null,
            "_model_name": "LayoutModel",
            "justify_items": null,
            "grid_row": null,
            "max_height": null,
            "align_content": null,
            "visibility": null,
            "align_self": null,
            "height": null,
            "min_height": null,
            "padding": null,
            "grid_auto_rows": null,
            "grid_gap": null,
            "max_width": null,
            "order": null,
            "_view_module_version": "1.2.0",
            "grid_template_areas": null,
            "object_position": null,
            "object_fit": null,
            "grid_auto_columns": null,
            "margin": null,
            "display": null,
            "left": null
          }
        },
        "30ee8b7af16e4171b2708cffb5725908": {
          "model_module": "@jupyter-widgets/controls",
          "model_name": "DescriptionStyleModel",
          "model_module_version": "1.5.0",
          "state": {
            "_view_name": "StyleView",
            "_model_name": "DescriptionStyleModel",
            "description_width": "",
            "_view_module": "@jupyter-widgets/base",
            "_model_module_version": "1.5.0",
            "_view_count": null,
            "_view_module_version": "1.2.0",
            "_model_module": "@jupyter-widgets/controls"
          }
        },
        "d80be5402fae4c56b01b1c17f4ce5a32": {
          "model_module": "@jupyter-widgets/base",
          "model_name": "LayoutModel",
          "model_module_version": "1.2.0",
          "state": {
            "_view_name": "LayoutView",
            "grid_template_rows": null,
            "right": null,
            "justify_content": null,
            "_view_module": "@jupyter-widgets/base",
            "overflow": null,
            "_model_module_version": "1.2.0",
            "_view_count": null,
            "flex_flow": null,
            "width": null,
            "min_width": null,
            "border": null,
            "align_items": null,
            "bottom": null,
            "_model_module": "@jupyter-widgets/base",
            "top": null,
            "grid_column": null,
            "overflow_y": null,
            "overflow_x": null,
            "grid_auto_flow": null,
            "grid_area": null,
            "grid_template_columns": null,
            "flex": null,
            "_model_name": "LayoutModel",
            "justify_items": null,
            "grid_row": null,
            "max_height": null,
            "align_content": null,
            "visibility": null,
            "align_self": null,
            "height": null,
            "min_height": null,
            "padding": null,
            "grid_auto_rows": null,
            "grid_gap": null,
            "max_width": null,
            "order": null,
            "_view_module_version": "1.2.0",
            "grid_template_areas": null,
            "object_position": null,
            "object_fit": null,
            "grid_auto_columns": null,
            "margin": null,
            "display": null,
            "left": null
          }
        },
        "deeea2a2ab7c425c967304709220e265": {
          "model_module": "@jupyter-widgets/controls",
          "model_name": "HBoxModel",
          "model_module_version": "1.5.0",
          "state": {
            "_view_name": "HBoxView",
            "_dom_classes": [],
            "_model_name": "HBoxModel",
            "_view_module": "@jupyter-widgets/controls",
            "_model_module_version": "1.5.0",
            "_view_count": null,
            "_view_module_version": "1.5.0",
            "box_style": "",
            "layout": "IPY_MODEL_065a104fe35f4c2fa6c695e6caaa431b",
            "_model_module": "@jupyter-widgets/controls",
            "children": [
              "IPY_MODEL_ac256250cc1944b2bf0e71f558abdcb0",
              "IPY_MODEL_a275f88f66c84d7c9053a7ebb9c14927",
              "IPY_MODEL_ed04085bdd0c4bb79537646a71f7452b"
            ]
          }
        },
        "065a104fe35f4c2fa6c695e6caaa431b": {
          "model_module": "@jupyter-widgets/base",
          "model_name": "LayoutModel",
          "model_module_version": "1.2.0",
          "state": {
            "_view_name": "LayoutView",
            "grid_template_rows": null,
            "right": null,
            "justify_content": null,
            "_view_module": "@jupyter-widgets/base",
            "overflow": null,
            "_model_module_version": "1.2.0",
            "_view_count": null,
            "flex_flow": null,
            "width": null,
            "min_width": null,
            "border": null,
            "align_items": null,
            "bottom": null,
            "_model_module": "@jupyter-widgets/base",
            "top": null,
            "grid_column": null,
            "overflow_y": null,
            "overflow_x": null,
            "grid_auto_flow": null,
            "grid_area": null,
            "grid_template_columns": null,
            "flex": null,
            "_model_name": "LayoutModel",
            "justify_items": null,
            "grid_row": null,
            "max_height": null,
            "align_content": null,
            "visibility": null,
            "align_self": null,
            "height": null,
            "min_height": null,
            "padding": null,
            "grid_auto_rows": null,
            "grid_gap": null,
            "max_width": null,
            "order": null,
            "_view_module_version": "1.2.0",
            "grid_template_areas": null,
            "object_position": null,
            "object_fit": null,
            "grid_auto_columns": null,
            "margin": null,
            "display": null,
            "left": null
          }
        },
        "ac256250cc1944b2bf0e71f558abdcb0": {
          "model_module": "@jupyter-widgets/controls",
          "model_name": "HTMLModel",
          "model_module_version": "1.5.0",
          "state": {
            "_view_name": "HTMLView",
            "style": "IPY_MODEL_e115fc65ae244d61984e06edf114e89b",
            "_dom_classes": [],
            "description": "",
            "_model_name": "HTMLModel",
            "placeholder": "​",
            "_view_module": "@jupyter-widgets/controls",
            "_model_module_version": "1.5.0",
            "value": "",
            "_view_count": null,
            "_view_module_version": "1.5.0",
            "description_tooltip": null,
            "_model_module": "@jupyter-widgets/controls",
            "layout": "IPY_MODEL_c664c078a6074a5bab3b9a41b0a4f74f"
          }
        },
        "a275f88f66c84d7c9053a7ebb9c14927": {
          "model_module": "@jupyter-widgets/controls",
          "model_name": "FloatProgressModel",
          "model_module_version": "1.5.0",
          "state": {
            "_view_name": "ProgressView",
            "style": "IPY_MODEL_0741bd36ed8044839ff6205260a1139a",
            "_dom_classes": [],
            "description": "",
            "_model_name": "FloatProgressModel",
            "bar_style": "success",
            "max": 28881,
            "_view_module": "@jupyter-widgets/controls",
            "_model_module_version": "1.5.0",
            "value": 28881,
            "_view_count": null,
            "_view_module_version": "1.5.0",
            "orientation": "horizontal",
            "min": 0,
            "description_tooltip": null,
            "_model_module": "@jupyter-widgets/controls",
            "layout": "IPY_MODEL_dc4bd2676e1345f3b6754a6dd4c19d53"
          }
        },
        "ed04085bdd0c4bb79537646a71f7452b": {
          "model_module": "@jupyter-widgets/controls",
          "model_name": "HTMLModel",
          "model_module_version": "1.5.0",
          "state": {
            "_view_name": "HTMLView",
            "style": "IPY_MODEL_d33ec0a1e6a6440c9d421d330e37a029",
            "_dom_classes": [],
            "description": "",
            "_model_name": "HTMLModel",
            "placeholder": "​",
            "_view_module": "@jupyter-widgets/controls",
            "_model_module_version": "1.5.0",
            "value": " 29696/? [00:00&lt;00:00, 775999.03it/s]",
            "_view_count": null,
            "_view_module_version": "1.5.0",
            "description_tooltip": null,
            "_model_module": "@jupyter-widgets/controls",
            "layout": "IPY_MODEL_7df2ceb946d74c9e96628660323eb12b"
          }
        },
        "e115fc65ae244d61984e06edf114e89b": {
          "model_module": "@jupyter-widgets/controls",
          "model_name": "DescriptionStyleModel",
          "model_module_version": "1.5.0",
          "state": {
            "_view_name": "StyleView",
            "_model_name": "DescriptionStyleModel",
            "description_width": "",
            "_view_module": "@jupyter-widgets/base",
            "_model_module_version": "1.5.0",
            "_view_count": null,
            "_view_module_version": "1.2.0",
            "_model_module": "@jupyter-widgets/controls"
          }
        },
        "c664c078a6074a5bab3b9a41b0a4f74f": {
          "model_module": "@jupyter-widgets/base",
          "model_name": "LayoutModel",
          "model_module_version": "1.2.0",
          "state": {
            "_view_name": "LayoutView",
            "grid_template_rows": null,
            "right": null,
            "justify_content": null,
            "_view_module": "@jupyter-widgets/base",
            "overflow": null,
            "_model_module_version": "1.2.0",
            "_view_count": null,
            "flex_flow": null,
            "width": null,
            "min_width": null,
            "border": null,
            "align_items": null,
            "bottom": null,
            "_model_module": "@jupyter-widgets/base",
            "top": null,
            "grid_column": null,
            "overflow_y": null,
            "overflow_x": null,
            "grid_auto_flow": null,
            "grid_area": null,
            "grid_template_columns": null,
            "flex": null,
            "_model_name": "LayoutModel",
            "justify_items": null,
            "grid_row": null,
            "max_height": null,
            "align_content": null,
            "visibility": null,
            "align_self": null,
            "height": null,
            "min_height": null,
            "padding": null,
            "grid_auto_rows": null,
            "grid_gap": null,
            "max_width": null,
            "order": null,
            "_view_module_version": "1.2.0",
            "grid_template_areas": null,
            "object_position": null,
            "object_fit": null,
            "grid_auto_columns": null,
            "margin": null,
            "display": null,
            "left": null
          }
        },
        "0741bd36ed8044839ff6205260a1139a": {
          "model_module": "@jupyter-widgets/controls",
          "model_name": "ProgressStyleModel",
          "model_module_version": "1.5.0",
          "state": {
            "_view_name": "StyleView",
            "_model_name": "ProgressStyleModel",
            "description_width": "",
            "_view_module": "@jupyter-widgets/base",
            "_model_module_version": "1.5.0",
            "_view_count": null,
            "_view_module_version": "1.2.0",
            "bar_color": null,
            "_model_module": "@jupyter-widgets/controls"
          }
        },
        "dc4bd2676e1345f3b6754a6dd4c19d53": {
          "model_module": "@jupyter-widgets/base",
          "model_name": "LayoutModel",
          "model_module_version": "1.2.0",
          "state": {
            "_view_name": "LayoutView",
            "grid_template_rows": null,
            "right": null,
            "justify_content": null,
            "_view_module": "@jupyter-widgets/base",
            "overflow": null,
            "_model_module_version": "1.2.0",
            "_view_count": null,
            "flex_flow": null,
            "width": null,
            "min_width": null,
            "border": null,
            "align_items": null,
            "bottom": null,
            "_model_module": "@jupyter-widgets/base",
            "top": null,
            "grid_column": null,
            "overflow_y": null,
            "overflow_x": null,
            "grid_auto_flow": null,
            "grid_area": null,
            "grid_template_columns": null,
            "flex": null,
            "_model_name": "LayoutModel",
            "justify_items": null,
            "grid_row": null,
            "max_height": null,
            "align_content": null,
            "visibility": null,
            "align_self": null,
            "height": null,
            "min_height": null,
            "padding": null,
            "grid_auto_rows": null,
            "grid_gap": null,
            "max_width": null,
            "order": null,
            "_view_module_version": "1.2.0",
            "grid_template_areas": null,
            "object_position": null,
            "object_fit": null,
            "grid_auto_columns": null,
            "margin": null,
            "display": null,
            "left": null
          }
        },
        "d33ec0a1e6a6440c9d421d330e37a029": {
          "model_module": "@jupyter-widgets/controls",
          "model_name": "DescriptionStyleModel",
          "model_module_version": "1.5.0",
          "state": {
            "_view_name": "StyleView",
            "_model_name": "DescriptionStyleModel",
            "description_width": "",
            "_view_module": "@jupyter-widgets/base",
            "_model_module_version": "1.5.0",
            "_view_count": null,
            "_view_module_version": "1.2.0",
            "_model_module": "@jupyter-widgets/controls"
          }
        },
        "7df2ceb946d74c9e96628660323eb12b": {
          "model_module": "@jupyter-widgets/base",
          "model_name": "LayoutModel",
          "model_module_version": "1.2.0",
          "state": {
            "_view_name": "LayoutView",
            "grid_template_rows": null,
            "right": null,
            "justify_content": null,
            "_view_module": "@jupyter-widgets/base",
            "overflow": null,
            "_model_module_version": "1.2.0",
            "_view_count": null,
            "flex_flow": null,
            "width": null,
            "min_width": null,
            "border": null,
            "align_items": null,
            "bottom": null,
            "_model_module": "@jupyter-widgets/base",
            "top": null,
            "grid_column": null,
            "overflow_y": null,
            "overflow_x": null,
            "grid_auto_flow": null,
            "grid_area": null,
            "grid_template_columns": null,
            "flex": null,
            "_model_name": "LayoutModel",
            "justify_items": null,
            "grid_row": null,
            "max_height": null,
            "align_content": null,
            "visibility": null,
            "align_self": null,
            "height": null,
            "min_height": null,
            "padding": null,
            "grid_auto_rows": null,
            "grid_gap": null,
            "max_width": null,
            "order": null,
            "_view_module_version": "1.2.0",
            "grid_template_areas": null,
            "object_position": null,
            "object_fit": null,
            "grid_auto_columns": null,
            "margin": null,
            "display": null,
            "left": null
          }
        },
        "67f086d792c3493e866b49369c0945d8": {
          "model_module": "@jupyter-widgets/controls",
          "model_name": "HBoxModel",
          "model_module_version": "1.5.0",
          "state": {
            "_view_name": "HBoxView",
            "_dom_classes": [],
            "_model_name": "HBoxModel",
            "_view_module": "@jupyter-widgets/controls",
            "_model_module_version": "1.5.0",
            "_view_count": null,
            "_view_module_version": "1.5.0",
            "box_style": "",
            "layout": "IPY_MODEL_c39e3e625929438e82e81ade85f174f3",
            "_model_module": "@jupyter-widgets/controls",
            "children": [
              "IPY_MODEL_029e9250a1674b25a3fa2e8b74139045",
              "IPY_MODEL_aa58c322da974f509305c3c0dda90f43",
              "IPY_MODEL_1405e31e2aae40e095ba9ed84291aa56"
            ]
          }
        },
        "c39e3e625929438e82e81ade85f174f3": {
          "model_module": "@jupyter-widgets/base",
          "model_name": "LayoutModel",
          "model_module_version": "1.2.0",
          "state": {
            "_view_name": "LayoutView",
            "grid_template_rows": null,
            "right": null,
            "justify_content": null,
            "_view_module": "@jupyter-widgets/base",
            "overflow": null,
            "_model_module_version": "1.2.0",
            "_view_count": null,
            "flex_flow": null,
            "width": null,
            "min_width": null,
            "border": null,
            "align_items": null,
            "bottom": null,
            "_model_module": "@jupyter-widgets/base",
            "top": null,
            "grid_column": null,
            "overflow_y": null,
            "overflow_x": null,
            "grid_auto_flow": null,
            "grid_area": null,
            "grid_template_columns": null,
            "flex": null,
            "_model_name": "LayoutModel",
            "justify_items": null,
            "grid_row": null,
            "max_height": null,
            "align_content": null,
            "visibility": null,
            "align_self": null,
            "height": null,
            "min_height": null,
            "padding": null,
            "grid_auto_rows": null,
            "grid_gap": null,
            "max_width": null,
            "order": null,
            "_view_module_version": "1.2.0",
            "grid_template_areas": null,
            "object_position": null,
            "object_fit": null,
            "grid_auto_columns": null,
            "margin": null,
            "display": null,
            "left": null
          }
        },
        "029e9250a1674b25a3fa2e8b74139045": {
          "model_module": "@jupyter-widgets/controls",
          "model_name": "HTMLModel",
          "model_module_version": "1.5.0",
          "state": {
            "_view_name": "HTMLView",
            "style": "IPY_MODEL_8e92521fd9354eaea348c9dc77af82ca",
            "_dom_classes": [],
            "description": "",
            "_model_name": "HTMLModel",
            "placeholder": "​",
            "_view_module": "@jupyter-widgets/controls",
            "_model_module_version": "1.5.0",
            "value": "",
            "_view_count": null,
            "_view_module_version": "1.5.0",
            "description_tooltip": null,
            "_model_module": "@jupyter-widgets/controls",
            "layout": "IPY_MODEL_6dca0af94b8f4b9bac1e43a72c7bdce8"
          }
        },
        "aa58c322da974f509305c3c0dda90f43": {
          "model_module": "@jupyter-widgets/controls",
          "model_name": "FloatProgressModel",
          "model_module_version": "1.5.0",
          "state": {
            "_view_name": "ProgressView",
            "style": "IPY_MODEL_2a9278b2f2da46e08bdba98179ebb7a0",
            "_dom_classes": [],
            "description": "",
            "_model_name": "FloatProgressModel",
            "bar_style": "success",
            "max": 1648877,
            "_view_module": "@jupyter-widgets/controls",
            "_model_module_version": "1.5.0",
            "value": 1648877,
            "_view_count": null,
            "_view_module_version": "1.5.0",
            "orientation": "horizontal",
            "min": 0,
            "description_tooltip": null,
            "_model_module": "@jupyter-widgets/controls",
            "layout": "IPY_MODEL_f4fb3994198c46548bf2d1d90a83ea52"
          }
        },
        "1405e31e2aae40e095ba9ed84291aa56": {
          "model_module": "@jupyter-widgets/controls",
          "model_name": "HTMLModel",
          "model_module_version": "1.5.0",
          "state": {
            "_view_name": "HTMLView",
            "style": "IPY_MODEL_eea7ac5b25a04e7686b2ff2130757164",
            "_dom_classes": [],
            "description": "",
            "_model_name": "HTMLModel",
            "placeholder": "​",
            "_view_module": "@jupyter-widgets/controls",
            "_model_module_version": "1.5.0",
            "value": " 1649664/? [00:00&lt;00:00, 18154701.13it/s]",
            "_view_count": null,
            "_view_module_version": "1.5.0",
            "description_tooltip": null,
            "_model_module": "@jupyter-widgets/controls",
            "layout": "IPY_MODEL_7bf3d7a041784767a5e70153bd657bb2"
          }
        },
        "8e92521fd9354eaea348c9dc77af82ca": {
          "model_module": "@jupyter-widgets/controls",
          "model_name": "DescriptionStyleModel",
          "model_module_version": "1.5.0",
          "state": {
            "_view_name": "StyleView",
            "_model_name": "DescriptionStyleModel",
            "description_width": "",
            "_view_module": "@jupyter-widgets/base",
            "_model_module_version": "1.5.0",
            "_view_count": null,
            "_view_module_version": "1.2.0",
            "_model_module": "@jupyter-widgets/controls"
          }
        },
        "6dca0af94b8f4b9bac1e43a72c7bdce8": {
          "model_module": "@jupyter-widgets/base",
          "model_name": "LayoutModel",
          "model_module_version": "1.2.0",
          "state": {
            "_view_name": "LayoutView",
            "grid_template_rows": null,
            "right": null,
            "justify_content": null,
            "_view_module": "@jupyter-widgets/base",
            "overflow": null,
            "_model_module_version": "1.2.0",
            "_view_count": null,
            "flex_flow": null,
            "width": null,
            "min_width": null,
            "border": null,
            "align_items": null,
            "bottom": null,
            "_model_module": "@jupyter-widgets/base",
            "top": null,
            "grid_column": null,
            "overflow_y": null,
            "overflow_x": null,
            "grid_auto_flow": null,
            "grid_area": null,
            "grid_template_columns": null,
            "flex": null,
            "_model_name": "LayoutModel",
            "justify_items": null,
            "grid_row": null,
            "max_height": null,
            "align_content": null,
            "visibility": null,
            "align_self": null,
            "height": null,
            "min_height": null,
            "padding": null,
            "grid_auto_rows": null,
            "grid_gap": null,
            "max_width": null,
            "order": null,
            "_view_module_version": "1.2.0",
            "grid_template_areas": null,
            "object_position": null,
            "object_fit": null,
            "grid_auto_columns": null,
            "margin": null,
            "display": null,
            "left": null
          }
        },
        "2a9278b2f2da46e08bdba98179ebb7a0": {
          "model_module": "@jupyter-widgets/controls",
          "model_name": "ProgressStyleModel",
          "model_module_version": "1.5.0",
          "state": {
            "_view_name": "StyleView",
            "_model_name": "ProgressStyleModel",
            "description_width": "",
            "_view_module": "@jupyter-widgets/base",
            "_model_module_version": "1.5.0",
            "_view_count": null,
            "_view_module_version": "1.2.0",
            "bar_color": null,
            "_model_module": "@jupyter-widgets/controls"
          }
        },
        "f4fb3994198c46548bf2d1d90a83ea52": {
          "model_module": "@jupyter-widgets/base",
          "model_name": "LayoutModel",
          "model_module_version": "1.2.0",
          "state": {
            "_view_name": "LayoutView",
            "grid_template_rows": null,
            "right": null,
            "justify_content": null,
            "_view_module": "@jupyter-widgets/base",
            "overflow": null,
            "_model_module_version": "1.2.0",
            "_view_count": null,
            "flex_flow": null,
            "width": null,
            "min_width": null,
            "border": null,
            "align_items": null,
            "bottom": null,
            "_model_module": "@jupyter-widgets/base",
            "top": null,
            "grid_column": null,
            "overflow_y": null,
            "overflow_x": null,
            "grid_auto_flow": null,
            "grid_area": null,
            "grid_template_columns": null,
            "flex": null,
            "_model_name": "LayoutModel",
            "justify_items": null,
            "grid_row": null,
            "max_height": null,
            "align_content": null,
            "visibility": null,
            "align_self": null,
            "height": null,
            "min_height": null,
            "padding": null,
            "grid_auto_rows": null,
            "grid_gap": null,
            "max_width": null,
            "order": null,
            "_view_module_version": "1.2.0",
            "grid_template_areas": null,
            "object_position": null,
            "object_fit": null,
            "grid_auto_columns": null,
            "margin": null,
            "display": null,
            "left": null
          }
        },
        "eea7ac5b25a04e7686b2ff2130757164": {
          "model_module": "@jupyter-widgets/controls",
          "model_name": "DescriptionStyleModel",
          "model_module_version": "1.5.0",
          "state": {
            "_view_name": "StyleView",
            "_model_name": "DescriptionStyleModel",
            "description_width": "",
            "_view_module": "@jupyter-widgets/base",
            "_model_module_version": "1.5.0",
            "_view_count": null,
            "_view_module_version": "1.2.0",
            "_model_module": "@jupyter-widgets/controls"
          }
        },
        "7bf3d7a041784767a5e70153bd657bb2": {
          "model_module": "@jupyter-widgets/base",
          "model_name": "LayoutModel",
          "model_module_version": "1.2.0",
          "state": {
            "_view_name": "LayoutView",
            "grid_template_rows": null,
            "right": null,
            "justify_content": null,
            "_view_module": "@jupyter-widgets/base",
            "overflow": null,
            "_model_module_version": "1.2.0",
            "_view_count": null,
            "flex_flow": null,
            "width": null,
            "min_width": null,
            "border": null,
            "align_items": null,
            "bottom": null,
            "_model_module": "@jupyter-widgets/base",
            "top": null,
            "grid_column": null,
            "overflow_y": null,
            "overflow_x": null,
            "grid_auto_flow": null,
            "grid_area": null,
            "grid_template_columns": null,
            "flex": null,
            "_model_name": "LayoutModel",
            "justify_items": null,
            "grid_row": null,
            "max_height": null,
            "align_content": null,
            "visibility": null,
            "align_self": null,
            "height": null,
            "min_height": null,
            "padding": null,
            "grid_auto_rows": null,
            "grid_gap": null,
            "max_width": null,
            "order": null,
            "_view_module_version": "1.2.0",
            "grid_template_areas": null,
            "object_position": null,
            "object_fit": null,
            "grid_auto_columns": null,
            "margin": null,
            "display": null,
            "left": null
          }
        },
        "c72d00f2889e429c99cd7edb13350076": {
          "model_module": "@jupyter-widgets/controls",
          "model_name": "HBoxModel",
          "model_module_version": "1.5.0",
          "state": {
            "_view_name": "HBoxView",
            "_dom_classes": [],
            "_model_name": "HBoxModel",
            "_view_module": "@jupyter-widgets/controls",
            "_model_module_version": "1.5.0",
            "_view_count": null,
            "_view_module_version": "1.5.0",
            "box_style": "",
            "layout": "IPY_MODEL_edfb1b5885a04855bddd437b7c7cdfbb",
            "_model_module": "@jupyter-widgets/controls",
            "children": [
              "IPY_MODEL_4a134c781871477fb177b949a5a6223d",
              "IPY_MODEL_936e4468c6674cf0be9dbcd59a5c77b4",
              "IPY_MODEL_35bdd25944314fbcbf5b9de0fd9600c4"
            ]
          }
        },
        "edfb1b5885a04855bddd437b7c7cdfbb": {
          "model_module": "@jupyter-widgets/base",
          "model_name": "LayoutModel",
          "model_module_version": "1.2.0",
          "state": {
            "_view_name": "LayoutView",
            "grid_template_rows": null,
            "right": null,
            "justify_content": null,
            "_view_module": "@jupyter-widgets/base",
            "overflow": null,
            "_model_module_version": "1.2.0",
            "_view_count": null,
            "flex_flow": null,
            "width": null,
            "min_width": null,
            "border": null,
            "align_items": null,
            "bottom": null,
            "_model_module": "@jupyter-widgets/base",
            "top": null,
            "grid_column": null,
            "overflow_y": null,
            "overflow_x": null,
            "grid_auto_flow": null,
            "grid_area": null,
            "grid_template_columns": null,
            "flex": null,
            "_model_name": "LayoutModel",
            "justify_items": null,
            "grid_row": null,
            "max_height": null,
            "align_content": null,
            "visibility": null,
            "align_self": null,
            "height": null,
            "min_height": null,
            "padding": null,
            "grid_auto_rows": null,
            "grid_gap": null,
            "max_width": null,
            "order": null,
            "_view_module_version": "1.2.0",
            "grid_template_areas": null,
            "object_position": null,
            "object_fit": null,
            "grid_auto_columns": null,
            "margin": null,
            "display": null,
            "left": null
          }
        },
        "4a134c781871477fb177b949a5a6223d": {
          "model_module": "@jupyter-widgets/controls",
          "model_name": "HTMLModel",
          "model_module_version": "1.5.0",
          "state": {
            "_view_name": "HTMLView",
            "style": "IPY_MODEL_15c418a544f145c381333c91e1f4fa03",
            "_dom_classes": [],
            "description": "",
            "_model_name": "HTMLModel",
            "placeholder": "​",
            "_view_module": "@jupyter-widgets/controls",
            "_model_module_version": "1.5.0",
            "value": "",
            "_view_count": null,
            "_view_module_version": "1.5.0",
            "description_tooltip": null,
            "_model_module": "@jupyter-widgets/controls",
            "layout": "IPY_MODEL_ed7318cede6440fdadc61278373a9d2c"
          }
        },
        "936e4468c6674cf0be9dbcd59a5c77b4": {
          "model_module": "@jupyter-widgets/controls",
          "model_name": "FloatProgressModel",
          "model_module_version": "1.5.0",
          "state": {
            "_view_name": "ProgressView",
            "style": "IPY_MODEL_990207e79c00494f92153c95fdc24ddf",
            "_dom_classes": [],
            "description": "",
            "_model_name": "FloatProgressModel",
            "bar_style": "success",
            "max": 4542,
            "_view_module": "@jupyter-widgets/controls",
            "_model_module_version": "1.5.0",
            "value": 4542,
            "_view_count": null,
            "_view_module_version": "1.5.0",
            "orientation": "horizontal",
            "min": 0,
            "description_tooltip": null,
            "_model_module": "@jupyter-widgets/controls",
            "layout": "IPY_MODEL_41fd1ef6b2674af0be4f436026134cac"
          }
        },
        "35bdd25944314fbcbf5b9de0fd9600c4": {
          "model_module": "@jupyter-widgets/controls",
          "model_name": "HTMLModel",
          "model_module_version": "1.5.0",
          "state": {
            "_view_name": "HTMLView",
            "style": "IPY_MODEL_aecc89209f30455fab9c5593b1f2c2bd",
            "_dom_classes": [],
            "description": "",
            "_model_name": "HTMLModel",
            "placeholder": "​",
            "_view_module": "@jupyter-widgets/controls",
            "_model_module_version": "1.5.0",
            "value": " 5120/? [00:00&lt;00:00, 143098.80it/s]",
            "_view_count": null,
            "_view_module_version": "1.5.0",
            "description_tooltip": null,
            "_model_module": "@jupyter-widgets/controls",
            "layout": "IPY_MODEL_f8a17587096c497abe655d62672b7aeb"
          }
        },
        "15c418a544f145c381333c91e1f4fa03": {
          "model_module": "@jupyter-widgets/controls",
          "model_name": "DescriptionStyleModel",
          "model_module_version": "1.5.0",
          "state": {
            "_view_name": "StyleView",
            "_model_name": "DescriptionStyleModel",
            "description_width": "",
            "_view_module": "@jupyter-widgets/base",
            "_model_module_version": "1.5.0",
            "_view_count": null,
            "_view_module_version": "1.2.0",
            "_model_module": "@jupyter-widgets/controls"
          }
        },
        "ed7318cede6440fdadc61278373a9d2c": {
          "model_module": "@jupyter-widgets/base",
          "model_name": "LayoutModel",
          "model_module_version": "1.2.0",
          "state": {
            "_view_name": "LayoutView",
            "grid_template_rows": null,
            "right": null,
            "justify_content": null,
            "_view_module": "@jupyter-widgets/base",
            "overflow": null,
            "_model_module_version": "1.2.0",
            "_view_count": null,
            "flex_flow": null,
            "width": null,
            "min_width": null,
            "border": null,
            "align_items": null,
            "bottom": null,
            "_model_module": "@jupyter-widgets/base",
            "top": null,
            "grid_column": null,
            "overflow_y": null,
            "overflow_x": null,
            "grid_auto_flow": null,
            "grid_area": null,
            "grid_template_columns": null,
            "flex": null,
            "_model_name": "LayoutModel",
            "justify_items": null,
            "grid_row": null,
            "max_height": null,
            "align_content": null,
            "visibility": null,
            "align_self": null,
            "height": null,
            "min_height": null,
            "padding": null,
            "grid_auto_rows": null,
            "grid_gap": null,
            "max_width": null,
            "order": null,
            "_view_module_version": "1.2.0",
            "grid_template_areas": null,
            "object_position": null,
            "object_fit": null,
            "grid_auto_columns": null,
            "margin": null,
            "display": null,
            "left": null
          }
        },
        "990207e79c00494f92153c95fdc24ddf": {
          "model_module": "@jupyter-widgets/controls",
          "model_name": "ProgressStyleModel",
          "model_module_version": "1.5.0",
          "state": {
            "_view_name": "StyleView",
            "_model_name": "ProgressStyleModel",
            "description_width": "",
            "_view_module": "@jupyter-widgets/base",
            "_model_module_version": "1.5.0",
            "_view_count": null,
            "_view_module_version": "1.2.0",
            "bar_color": null,
            "_model_module": "@jupyter-widgets/controls"
          }
        },
        "41fd1ef6b2674af0be4f436026134cac": {
          "model_module": "@jupyter-widgets/base",
          "model_name": "LayoutModel",
          "model_module_version": "1.2.0",
          "state": {
            "_view_name": "LayoutView",
            "grid_template_rows": null,
            "right": null,
            "justify_content": null,
            "_view_module": "@jupyter-widgets/base",
            "overflow": null,
            "_model_module_version": "1.2.0",
            "_view_count": null,
            "flex_flow": null,
            "width": null,
            "min_width": null,
            "border": null,
            "align_items": null,
            "bottom": null,
            "_model_module": "@jupyter-widgets/base",
            "top": null,
            "grid_column": null,
            "overflow_y": null,
            "overflow_x": null,
            "grid_auto_flow": null,
            "grid_area": null,
            "grid_template_columns": null,
            "flex": null,
            "_model_name": "LayoutModel",
            "justify_items": null,
            "grid_row": null,
            "max_height": null,
            "align_content": null,
            "visibility": null,
            "align_self": null,
            "height": null,
            "min_height": null,
            "padding": null,
            "grid_auto_rows": null,
            "grid_gap": null,
            "max_width": null,
            "order": null,
            "_view_module_version": "1.2.0",
            "grid_template_areas": null,
            "object_position": null,
            "object_fit": null,
            "grid_auto_columns": null,
            "margin": null,
            "display": null,
            "left": null
          }
        },
        "aecc89209f30455fab9c5593b1f2c2bd": {
          "model_module": "@jupyter-widgets/controls",
          "model_name": "DescriptionStyleModel",
          "model_module_version": "1.5.0",
          "state": {
            "_view_name": "StyleView",
            "_model_name": "DescriptionStyleModel",
            "description_width": "",
            "_view_module": "@jupyter-widgets/base",
            "_model_module_version": "1.5.0",
            "_view_count": null,
            "_view_module_version": "1.2.0",
            "_model_module": "@jupyter-widgets/controls"
          }
        },
        "f8a17587096c497abe655d62672b7aeb": {
          "model_module": "@jupyter-widgets/base",
          "model_name": "LayoutModel",
          "model_module_version": "1.2.0",
          "state": {
            "_view_name": "LayoutView",
            "grid_template_rows": null,
            "right": null,
            "justify_content": null,
            "_view_module": "@jupyter-widgets/base",
            "overflow": null,
            "_model_module_version": "1.2.0",
            "_view_count": null,
            "flex_flow": null,
            "width": null,
            "min_width": null,
            "border": null,
            "align_items": null,
            "bottom": null,
            "_model_module": "@jupyter-widgets/base",
            "top": null,
            "grid_column": null,
            "overflow_y": null,
            "overflow_x": null,
            "grid_auto_flow": null,
            "grid_area": null,
            "grid_template_columns": null,
            "flex": null,
            "_model_name": "LayoutModel",
            "justify_items": null,
            "grid_row": null,
            "max_height": null,
            "align_content": null,
            "visibility": null,
            "align_self": null,
            "height": null,
            "min_height": null,
            "padding": null,
            "grid_auto_rows": null,
            "grid_gap": null,
            "max_width": null,
            "order": null,
            "_view_module_version": "1.2.0",
            "grid_template_areas": null,
            "object_position": null,
            "object_fit": null,
            "grid_auto_columns": null,
            "margin": null,
            "display": null,
            "left": null
          }
        }
      }
    }
  },
  "cells": [
    {
      "cell_type": "markdown",
      "metadata": {
        "id": "view-in-github",
        "colab_type": "text"
      },
      "source": [
        "<a href=\"https://colab.research.google.com/github/zeinabmohamed/CIT690E-DeepLearning-Zeinab_Abdelmawla-191009/blob/main/Assigment_3.ipynb\" target=\"_parent\"><img src=\"https://colab.research.google.com/assets/colab-badge.svg\" alt=\"Open In Colab\"/></a>"
      ]
    },
    {
      "cell_type": "markdown",
      "metadata": {
        "id": "KMsy-70LOQ9e"
      },
      "source": [
        "##**• Q1) In up to 3 sentences describe tilted convolution.** \n",
        "\n",
        "Convolutional neural networks (CNNs) have been successfully applied to many\n",
        "tasks such as digit and object recognition. Using convolutional (tied) weights\n",
        "significantly reduces the number of parameters that have to be learned, and also\n",
        "allows translational invariance to be hard-coded into the architecture. In this paper, we consider the problem of learning invariances, rather than relying on hardcoding. We propose tiled convolution neural networks (Tiled CNNs), which use\n",
        "a regular “tiled” pattern of tied weights that does not require that adjacent hidden\n",
        "units share identical weights, but instead requires only that hidden units k steps\n",
        "away from each other to have tied weights. By pooling over neighboring units,\n",
        "this architecture is able to learn complex invariances (such as scale and rotational\n",
        "invariance) beyond translational invariance. Further, it also enjoys much of CNNs’\n",
        "advantage of having a relatively small number of learned parameters (such as ease\n",
        "of learning and greater scalability). We provide an efficient learning algorithm for\n",
        "Tiled CNNs based on Topographic ICA, and show that learning complex invariant\n",
        "features allows us to achieve highly competitive results for both the NORB and\n",
        "CIFAR-10 datasets.\n",
        "\n"
      ]
    },
    {
      "cell_type": "markdown",
      "metadata": {
        "id": "W3YMxyK5V3H3"
      },
      "source": [
        "##- Q2) Python-Pytorch: Using MNIST dataset, compare in terms of the train and test accuracies of two different ConvNet models (kernel width 5, 32 filters) at:\n",
        "##• Stride of 1 and 2.\n",
        "##• Calculate the total number of parameters for each case."
      ]
    },
    {
      "cell_type": "code",
      "metadata": {
        "id": "B0i2-dYFOpHE"
      },
      "source": [
        "import torch\n",
        "from torchvision import transforms\n",
        "import torchvision.datasets as datasets\n",
        "import matplotlib.pyplot as plt\n",
        "import numpy as np"
      ],
      "execution_count": 1,
      "outputs": []
    },
    {
      "cell_type": "code",
      "metadata": {
        "id": "NcXjgZysO9u4"
      },
      "source": [
        "device = torch.device(\"cuda\" if torch.cuda.is_available() else \"cpu\")"
      ],
      "execution_count": 2,
      "outputs": []
    },
    {
      "cell_type": "code",
      "metadata": {
        "id": "ENn0YV9tPByW",
        "colab": {
          "base_uri": "https://localhost:8080/",
          "height": 475,
          "referenced_widgets": [
            "6a5a830a3fd64bd5b2b246877e5e190e",
            "ca0cac0f6efe4c9ea1022562d1ebbdd4",
            "559baa8834a543b4bf78f94469f6a095",
            "858b47d8ea3f4ca3b0799cdabdcc88a1",
            "bc6ab019ce0d48acb7914c0f7e583c57",
            "c643934a5e3846a8bc77b83c7dce8e48",
            "2ef1ee8f4da449d5b7d40abe8e06d195",
            "a4166e5ca1484bf0a7f1b4259c7eccd3",
            "f584fae4e8c542f5923f80eb2917e81a",
            "30ee8b7af16e4171b2708cffb5725908",
            "d80be5402fae4c56b01b1c17f4ce5a32",
            "deeea2a2ab7c425c967304709220e265",
            "065a104fe35f4c2fa6c695e6caaa431b",
            "ac256250cc1944b2bf0e71f558abdcb0",
            "a275f88f66c84d7c9053a7ebb9c14927",
            "ed04085bdd0c4bb79537646a71f7452b",
            "e115fc65ae244d61984e06edf114e89b",
            "c664c078a6074a5bab3b9a41b0a4f74f",
            "0741bd36ed8044839ff6205260a1139a",
            "dc4bd2676e1345f3b6754a6dd4c19d53",
            "d33ec0a1e6a6440c9d421d330e37a029",
            "7df2ceb946d74c9e96628660323eb12b",
            "67f086d792c3493e866b49369c0945d8",
            "c39e3e625929438e82e81ade85f174f3",
            "029e9250a1674b25a3fa2e8b74139045",
            "aa58c322da974f509305c3c0dda90f43",
            "1405e31e2aae40e095ba9ed84291aa56",
            "8e92521fd9354eaea348c9dc77af82ca",
            "6dca0af94b8f4b9bac1e43a72c7bdce8",
            "2a9278b2f2da46e08bdba98179ebb7a0",
            "f4fb3994198c46548bf2d1d90a83ea52",
            "eea7ac5b25a04e7686b2ff2130757164",
            "7bf3d7a041784767a5e70153bd657bb2",
            "c72d00f2889e429c99cd7edb13350076",
            "edfb1b5885a04855bddd437b7c7cdfbb",
            "4a134c781871477fb177b949a5a6223d",
            "936e4468c6674cf0be9dbcd59a5c77b4",
            "35bdd25944314fbcbf5b9de0fd9600c4",
            "15c418a544f145c381333c91e1f4fa03",
            "ed7318cede6440fdadc61278373a9d2c",
            "990207e79c00494f92153c95fdc24ddf",
            "41fd1ef6b2674af0be4f436026134cac",
            "aecc89209f30455fab9c5593b1f2c2bd",
            "f8a17587096c497abe655d62672b7aeb"
          ]
        },
        "outputId": "82c44fc7-536e-4921-b497-1958342b3367"
      },
      "source": [
        "mnist_trainset = datasets.MNIST(root='./data', train=True, download=True, transform=transforms.Compose([transforms.ToTensor()]))\n",
        "mnist_testset = datasets.MNIST(root='./data', train=False, download=True, transform=transforms.Compose([transforms.ToTensor()]))\n",
        "\n",
        "mnist_valset, mnist_testset = torch.utils.data.random_split(mnist_testset, [int(0.9 * len(mnist_testset)), int(0.1 * len(mnist_testset))])\n",
        "\n",
        "train_dataloader = torch.utils.data.DataLoader(mnist_trainset, batch_size=64, shuffle=True)\n",
        "val_dataloader = torch.utils.data.DataLoader(mnist_valset, batch_size=32, shuffle=False)\n",
        "test_dataloader = torch.utils.data.DataLoader(mnist_testset, batch_size=32, shuffle=False)\n",
        "\n",
        "print(\"Training dataset size: \", len(mnist_trainset))\n",
        "print(\"Validation dataset size: \", len(mnist_valset))\n",
        "print(\"Testing dataset size: \", len(mnist_testset))"
      ],
      "execution_count": 3,
      "outputs": [
        {
          "output_type": "stream",
          "name": "stdout",
          "text": [
            "Downloading http://yann.lecun.com/exdb/mnist/train-images-idx3-ubyte.gz\n",
            "Downloading http://yann.lecun.com/exdb/mnist/train-images-idx3-ubyte.gz to ./data/MNIST/raw/train-images-idx3-ubyte.gz\n"
          ]
        },
        {
          "output_type": "display_data",
          "data": {
            "application/vnd.jupyter.widget-view+json": {
              "model_id": "6a5a830a3fd64bd5b2b246877e5e190e",
              "version_minor": 0,
              "version_major": 2
            },
            "text/plain": [
              "  0%|          | 0/9912422 [00:00<?, ?it/s]"
            ]
          },
          "metadata": {}
        },
        {
          "output_type": "stream",
          "name": "stdout",
          "text": [
            "Extracting ./data/MNIST/raw/train-images-idx3-ubyte.gz to ./data/MNIST/raw\n",
            "\n",
            "Downloading http://yann.lecun.com/exdb/mnist/train-labels-idx1-ubyte.gz\n",
            "Downloading http://yann.lecun.com/exdb/mnist/train-labels-idx1-ubyte.gz to ./data/MNIST/raw/train-labels-idx1-ubyte.gz\n"
          ]
        },
        {
          "output_type": "display_data",
          "data": {
            "application/vnd.jupyter.widget-view+json": {
              "model_id": "deeea2a2ab7c425c967304709220e265",
              "version_minor": 0,
              "version_major": 2
            },
            "text/plain": [
              "  0%|          | 0/28881 [00:00<?, ?it/s]"
            ]
          },
          "metadata": {}
        },
        {
          "output_type": "stream",
          "name": "stdout",
          "text": [
            "Extracting ./data/MNIST/raw/train-labels-idx1-ubyte.gz to ./data/MNIST/raw\n",
            "\n",
            "Downloading http://yann.lecun.com/exdb/mnist/t10k-images-idx3-ubyte.gz\n",
            "Downloading http://yann.lecun.com/exdb/mnist/t10k-images-idx3-ubyte.gz to ./data/MNIST/raw/t10k-images-idx3-ubyte.gz\n"
          ]
        },
        {
          "output_type": "display_data",
          "data": {
            "application/vnd.jupyter.widget-view+json": {
              "model_id": "67f086d792c3493e866b49369c0945d8",
              "version_minor": 0,
              "version_major": 2
            },
            "text/plain": [
              "  0%|          | 0/1648877 [00:00<?, ?it/s]"
            ]
          },
          "metadata": {}
        },
        {
          "output_type": "stream",
          "name": "stdout",
          "text": [
            "Extracting ./data/MNIST/raw/t10k-images-idx3-ubyte.gz to ./data/MNIST/raw\n",
            "\n",
            "Downloading http://yann.lecun.com/exdb/mnist/t10k-labels-idx1-ubyte.gz\n",
            "Downloading http://yann.lecun.com/exdb/mnist/t10k-labels-idx1-ubyte.gz to ./data/MNIST/raw/t10k-labels-idx1-ubyte.gz\n"
          ]
        },
        {
          "output_type": "display_data",
          "data": {
            "application/vnd.jupyter.widget-view+json": {
              "model_id": "c72d00f2889e429c99cd7edb13350076",
              "version_minor": 0,
              "version_major": 2
            },
            "text/plain": [
              "  0%|          | 0/4542 [00:00<?, ?it/s]"
            ]
          },
          "metadata": {}
        },
        {
          "output_type": "stream",
          "name": "stdout",
          "text": [
            "Extracting ./data/MNIST/raw/t10k-labels-idx1-ubyte.gz to ./data/MNIST/raw\n",
            "\n",
            "Training dataset size:  60000\n",
            "Validation dataset size:  9000\n",
            "Testing dataset size:  1000\n"
          ]
        }
      ]
    },
    {
      "cell_type": "code",
      "metadata": {
        "id": "bwwJqNUBPCwD"
      },
      "source": [
        "class CNN1(torch.nn.Module):\n",
        "    def __init__(self):\n",
        "        super(CNN1, self).__init__()\n",
        "        self.conv_1 = torch.nn.Conv2d(in_channels=1, out_channels=32, kernel_size=3, stride=1, padding=1)\n",
        "        self.conv_2 = torch.nn.Conv2d(in_channels=32, out_channels=64, kernel_size=3, stride=1, padding=1)\n",
        "        self.max_pool2d = torch.nn.MaxPool2d(kernel_size=2, stride=2)\n",
        "        self.linear_1 = torch.nn.Linear(7 * 7 * 64, 128)\n",
        "        self.linear_2 = torch.nn.Linear(128, 10)\n",
        "        self.dropout = torch.nn.Dropout(p=0.5)\n",
        "        self.relu = torch.nn.ReLU()\n",
        "\n",
        "    def forward(self, x):\n",
        "        x = self.conv_1(x)\n",
        "        x = self.relu(x)\n",
        "        x = self.max_pool2d(x)\n",
        "        x = self.conv_2(x)\n",
        "        x = self.relu(x)\n",
        "        x = self.max_pool2d(x)\n",
        "        x = x.reshape(x.size(0), -1)\n",
        "        x = self.linear_1(x)\n",
        "        x = self.relu(x)\n",
        "        x = self.dropout(x)\n",
        "        pred = self.linear_2(x)\n",
        "\n",
        "        return pred"
      ],
      "execution_count": 4,
      "outputs": []
    },
    {
      "cell_type": "code",
      "metadata": {
        "id": "46XdVgdmIF6A"
      },
      "source": [
        "model1 = CNN1()\n",
        "criterion = torch.nn.CrossEntropyLoss()\n",
        "optimizer = torch.optim.Adam(model1.parameters(), lr=0.001)\n",
        "\n",
        "if (torch.cuda.is_available()):\n",
        "    model1.cuda()"
      ],
      "execution_count": 5,
      "outputs": []
    },
    {
      "cell_type": "code",
      "metadata": {
        "id": "7hR1fGOnRnVl"
      },
      "source": [
        "no_epochs = 10\n",
        "train_loss = list()\n",
        "val_loss = list()\n",
        "best_val_loss = 1"
      ],
      "execution_count": 6,
      "outputs": []
    },
    {
      "cell_type": "code",
      "metadata": {
        "id": "aoQx5aGTlodj",
        "colab": {
          "base_uri": "https://localhost:8080/",
          "height": 1000
        },
        "outputId": "fd8a9757-6a48-4c0e-ddb0-e1ae696ba1aa"
      },
      "source": [
        "for epoch in range(no_epochs):\n",
        "    total_train_loss = 0\n",
        "    total_val_loss = 0\n",
        "\n",
        "    model1.train()\n",
        "    # training\n",
        "    for itr, (image, label) in enumerate(train_dataloader):\n",
        "\n",
        "        if (torch.cuda.is_available()):\n",
        "            image = image.cuda()\n",
        "            label = label.cuda()\n",
        "\n",
        "        optimizer.zero_grad()\n",
        "\n",
        "        pred = model1(image)\n",
        "\n",
        "        loss = criterion(pred, label)\n",
        "        total_train_loss += loss.item()\n",
        "\n",
        "        loss.backward()\n",
        "        optimizer.step()\n",
        "\n",
        "    total_train_loss = total_train_loss / (itr + 1)\n",
        "    train_loss.append(total_train_loss)\n",
        "\n",
        "    # validation\n",
        "    model1.eval()\n",
        "    total = 0\n",
        "    for itr, (image, label) in enumerate(val_dataloader):\n",
        "\n",
        "        if (torch.cuda.is_available()):\n",
        "            image = image.cuda()\n",
        "            label = label.cuda()\n",
        "\n",
        "        pred = model1(image)\n",
        "\n",
        "        loss = criterion(pred, label)\n",
        "        total_val_loss += loss.item()\n",
        "\n",
        "        pred = torch.nn.functional.softmax(pred, dim=1)\n",
        "        for i, p in enumerate(pred):\n",
        "            if label[i] == torch.max(p.data, 0)[1]:\n",
        "                total = total + 1\n",
        "\n",
        "    accuracy = total / len(mnist_valset)\n",
        "\n",
        "    total_val_loss = total_val_loss / (itr + 1)\n",
        "    val_loss.append(total_val_loss)\n",
        "\n",
        "    print('\\nEpoch: {}/{}, Train Loss: {:.8f}, Val Loss: {:.8f}, Val Accuracy: {:.8f}'.format(epoch + 1, no_epochs, total_train_loss, total_val_loss, accuracy))\n",
        "\n",
        "    if total_val_loss < best_val_loss:\n",
        "        best_val_loss = total_val_loss\n",
        "        print(\"Saving the model state dictionary for Epoch: {} with Validation loss: {:.8f}\".format(epoch + 1, total_val_loss))\n",
        "        torch.save(model1.state_dict(), \"model.dth\")\n",
        "\n",
        "fig=plt.figure(figsize=(20, 10))\n",
        "plt.plot(np.arange(1, no_epochs+1), train_loss, label=\"Train loss\")\n",
        "plt.plot(np.arange(1, no_epochs+1), val_loss, label=\"Validation loss\")\n",
        "plt.xlabel('Loss')\n",
        "plt.ylabel('Epochs')\n",
        "plt.title(\"Loss Plots\")\n",
        "plt.legend(loc='upper right')\n",
        "plt.show()"
      ],
      "execution_count": 7,
      "outputs": [
        {
          "output_type": "stream",
          "name": "stdout",
          "text": [
            "\n",
            "Epoch: 1/10, Train Loss: 0.27705367, Val Loss: 0.05572179, Val Accuracy: 0.98266667\n",
            "Saving the model state dictionary for Epoch: 1 with Validation loss: 0.05572179\n",
            "\n",
            "Epoch: 2/10, Train Loss: 0.09689218, Val Loss: 0.04040513, Val Accuracy: 0.98677778\n",
            "Saving the model state dictionary for Epoch: 2 with Validation loss: 0.04040513\n",
            "\n",
            "Epoch: 3/10, Train Loss: 0.07358824, Val Loss: 0.03335632, Val Accuracy: 0.98822222\n",
            "Saving the model state dictionary for Epoch: 3 with Validation loss: 0.03335632\n",
            "\n",
            "Epoch: 4/10, Train Loss: 0.06096977, Val Loss: 0.03172801, Val Accuracy: 0.99122222\n",
            "Saving the model state dictionary for Epoch: 4 with Validation loss: 0.03172801\n",
            "\n",
            "Epoch: 5/10, Train Loss: 0.05231389, Val Loss: 0.02927644, Val Accuracy: 0.98988889\n",
            "Saving the model state dictionary for Epoch: 5 with Validation loss: 0.02927644\n",
            "\n",
            "Epoch: 6/10, Train Loss: 0.04676661, Val Loss: 0.02650429, Val Accuracy: 0.99000000\n",
            "Saving the model state dictionary for Epoch: 6 with Validation loss: 0.02650429\n",
            "\n",
            "Epoch: 7/10, Train Loss: 0.03968280, Val Loss: 0.02676765, Val Accuracy: 0.99166667\n",
            "\n",
            "Epoch: 8/10, Train Loss: 0.03445239, Val Loss: 0.02841956, Val Accuracy: 0.99166667\n",
            "\n",
            "Epoch: 9/10, Train Loss: 0.03017810, Val Loss: 0.02542720, Val Accuracy: 0.99266667\n",
            "Saving the model state dictionary for Epoch: 9 with Validation loss: 0.02542720\n",
            "\n",
            "Epoch: 10/10, Train Loss: 0.02782227, Val Loss: 0.02895139, Val Accuracy: 0.99155556\n"
          ]
        },
        {
          "output_type": "display_data",
          "data": {
            "image/png": "[encoded data removed]",
            "text/plain": [
              "<Figure size 1440x720 with 1 Axes>"
            ]
          },
          "metadata": {
            "needs_background": "light"
          }
        }
      ]
    },
    {
      "cell_type": "code",
      "metadata": {
        "id": "Xq4TOFIymDGW",
        "colab": {
          "base_uri": "https://localhost:8080/"
        },
        "outputId": "ae8d5c05-7425-4786-ed07-2dc3406a2ed3"
      },
      "source": [
        "1# test model1\n",
        "model1.load_state_dict(torch.load(\"model.dth\"))\n",
        "model1.eval()\n",
        "\n",
        "# store correct predictions\n",
        "correct_results = list()\n",
        "# store wrong predictions\n",
        "wrong_results = list()\n",
        "total = 0\n",
        "for itr, (image, label) in enumerate(test_dataloader):\n",
        "\n",
        "    if (torch.cuda.is_available()):\n",
        "        image = image.cuda()\n",
        "        label = label.cuda()\n",
        "\n",
        "    pred = model1(image)\n",
        "    pred = torch.nn.functional.softmax(pred, dim=1)\n",
        "\n",
        "    for i, p in enumerate(pred):\n",
        "        if label[i] == torch.max(p.data, 0)[1]:\n",
        "            total = total + 1\n",
        "            correct_results.append((image, torch.max(p.data, 0)[1]))\n",
        "\n",
        "        else:\n",
        "          wrong_results.append((image, torch.max(p.data, 0)[1]))\n",
        "\n",
        "test_accuracy = total / len(mnist_testset)\n",
        "print('Test accuracy {:.8f}'.format(test_accuracy))"
      ],
      "execution_count": 8,
      "outputs": [
        {
          "output_type": "stream",
          "name": "stdout",
          "text": [
            "Test accuracy 0.99100000\n"
          ]
        }
      ]
    },
    {
      "cell_type": "code",
      "metadata": {
        "id": "fdN61_6VoYQ_",
        "colab": {
          "base_uri": "https://localhost:8080/"
        },
        "outputId": "48d4ed8d-b960-48bf-8847-86273c958fbd"
      },
      "source": [
        "#Calculate the total number of parameters for model stride 1\n",
        "from prettytable import PrettyTable\n",
        "\n",
        "def count_parameters(model1):\n",
        "    table = PrettyTable([\"Modules\", \"Parameters\"])\n",
        "    total_params = 0\n",
        "    for name, parameter in model1.named_parameters():\n",
        "        if not parameter.requires_grad: continue\n",
        "        param = parameter.numel()\n",
        "        table.add_row([name, param])\n",
        "        total_params+=param\n",
        "    print(table)\n",
        "    print(f\"Total Trainable Params: {total_params}\")\n",
        "    return total_params\n",
        "    \n",
        "count_parameters(model1)"
      ],
      "execution_count": 9,
      "outputs": [
        {
          "output_type": "stream",
          "name": "stdout",
          "text": [
            "+-----------------+------------+\n",
            "|     Modules     | Parameters |\n",
            "+-----------------+------------+\n",
            "|  conv_1.weight  |    288     |\n",
            "|   conv_1.bias   |     32     |\n",
            "|  conv_2.weight  |   18432    |\n",
            "|   conv_2.bias   |     64     |\n",
            "| linear_1.weight |   401408   |\n",
            "|  linear_1.bias  |    128     |\n",
            "| linear_2.weight |    1280    |\n",
            "|  linear_2.bias  |     10     |\n",
            "+-----------------+------------+\n",
            "Total Trainable Params: 421642\n"
          ]
        },
        {
          "output_type": "execute_result",
          "data": {
            "text/plain": [
              "421642"
            ]
          },
          "metadata": {},
          "execution_count": 9
        }
      ]
    },
    {
      "cell_type": "code",
      "metadata": {
        "id": "qwYughNEmIVo",
        "colab": {
          "base_uri": "https://localhost:8080/",
          "height": 553
        },
        "outputId": "429510a4-edd4-4e81-ae4a-1a24ba578572"
      },
      "source": [
        "# visualize correct results\n",
        "fig=plt.figure(figsize=(20, 10))\n",
        "for i in range(1, min(11, len(correct_results))):\n",
        "\n",
        "    img = transforms.ToPILImage(mode='L')(correct_results[0][0][i])\n",
        "    fig.add_subplot(2, 5, i)\n",
        "    plt.title(correct_results[i][1].item())\n",
        "    plt.imshow(img)\n",
        "plt.show()"
      ],
      "execution_count": 10,
      "outputs": [
        {
          "output_type": "display_data",
          "data": {
            "image/png": "[encoded data removed]",
            "text/plain": [
              "<Figure size 1440x720 with 10 Axes>"
            ]
          },
          "metadata": {
            "needs_background": "light"
          }
        }
      ]
    },
    {
      "cell_type": "code",
      "metadata": {
        "id": "j53ZcllVnD45",
        "colab": {
          "base_uri": "https://localhost:8080/",
          "height": 553
        },
        "outputId": "2dea6d3e-633e-4df4-d8bf-d1cd53743381"
      },
      "source": [
        "# visualize wrong results\n",
        "fig=plt.figure(figsize=(20, 10))\n",
        "for i in range(1, min(11, len(wrong_results))):\n",
        "\n",
        "    img = transforms.ToPILImage(mode='L')(wrong_results[0][0][i])\n",
        "    fig.add_subplot(2, 5, i)\n",
        "    plt.title(wrong_results[i][1].item())\n",
        "    plt.imshow(img)\n",
        "plt.show()"
      ],
      "execution_count": 11,
      "outputs": [
        {
          "output_type": "display_data",
          "data": {
            "image/png": "[encoded data removed]",
            "text/plain": [
              "<Figure size 1440x720 with 8 Axes>"
            ]
          },
          "metadata": {
            "needs_background": "light"
          }
        }
      ]
    },
    {
      "cell_type": "code",
      "metadata": {
        "id": "s4649rt_o0EL"
      },
      "source": [
        "class CNN2(torch.nn.Module):\n",
        "    def __init__(self):\n",
        "        super(CNN2, self).__init__()\n",
        "        self.conv_1 = torch.nn.Conv2d(in_channels=1, out_channels=32, kernel_size=3, stride=2, padding=9)\n",
        "        self.conv_2 = torch.nn.Conv2d(in_channels=32, out_channels=64, kernel_size=3, stride=2, padding=9)\n",
        "        self.max_pool2d = torch.nn.MaxPool2d(kernel_size=2, stride=2)\n",
        "        self.linear_1 = torch.nn.Linear(7 * 7 * 64, 128)\n",
        "        self.linear_2 = torch.nn.Linear(128, 10)\n",
        "        self.dropout = torch.nn.Dropout(p=0.5)\n",
        "        self.relu = torch.nn.ReLU()\n",
        "\n",
        "    def forward(self, x):\n",
        "        x = self.conv_1(x)\n",
        "        x = self.relu(x)\n",
        "        x = self.max_pool2d(x)\n",
        "        x = self.conv_2(x)\n",
        "        x = self.relu(x)\n",
        "        x = self.max_pool2d(x)\n",
        "        x = x.reshape(x.size(0), -1)\n",
        "        x = self.linear_1(x)\n",
        "        x = self.relu(x)\n",
        "        x = self.dropout(x)\n",
        "        pred = self.linear_2(x)\n",
        "\n",
        "        return pred"
      ],
      "execution_count": 12,
      "outputs": []
    },
    {
      "cell_type": "code",
      "metadata": {
        "id": "NwO4XjHCo0bh"
      },
      "source": [
        "model2 = CNN2()\n",
        "criterion = torch.nn.CrossEntropyLoss()\n",
        "optimizer = torch.optim.Adam(model2.parameters(), lr=0.001)\n",
        "\n",
        "if (torch.cuda.is_available()):\n",
        "    model2.cuda()"
      ],
      "execution_count": 13,
      "outputs": []
    },
    {
      "cell_type": "code",
      "metadata": {
        "id": "9odLXwtUBXz3"
      },
      "source": [
        "no_epochs = 10\n",
        "train_loss = list()\n",
        "val_loss = list()\n",
        "best_val_loss = 1"
      ],
      "execution_count": 14,
      "outputs": []
    },
    {
      "cell_type": "code",
      "metadata": {
        "id": "okk1hPlsEP_w",
        "colab": {
          "base_uri": "https://localhost:8080/",
          "height": 1000
        },
        "outputId": "cf988b9f-02d2-40e4-8690-7ab80abc5734"
      },
      "source": [
        "for epoch in range(no_epochs):\n",
        "    total_train_loss = 0\n",
        "    total_val_loss = 0\n",
        "\n",
        "    model2.train()\n",
        "    # training\n",
        "    for itr, (image, label) in enumerate(train_dataloader):\n",
        "\n",
        "        if (torch.cuda.is_available()):\n",
        "            image = image.cuda()\n",
        "            label = label.cuda()\n",
        "\n",
        "        optimizer.zero_grad()\n",
        "\n",
        "        pred = model2(image)\n",
        "\n",
        "        loss = criterion(pred, label)\n",
        "        total_train_loss += loss.item()\n",
        "\n",
        "        loss.backward()\n",
        "        optimizer.step()\n",
        "\n",
        "    total_train_loss = total_train_loss / (itr + 1)\n",
        "    train_loss.append(total_train_loss)\n",
        "\n",
        "    # validation\n",
        "    model2.eval()\n",
        "    total = 0\n",
        "    for itr, (image, label) in enumerate(val_dataloader):\n",
        "\n",
        "        if (torch.cuda.is_available()):\n",
        "            image = image.cuda()\n",
        "            label = label.cuda()\n",
        "\n",
        "        pred = model2(image)\n",
        "\n",
        "        loss = criterion(pred, label)\n",
        "        total_val_loss += loss.item()\n",
        "\n",
        "        pred = torch.nn.functional.softmax(pred, dim=1)\n",
        "        for i, p in enumerate(pred):\n",
        "            if label[i] == torch.max(p.data, 0)[1]:\n",
        "                total = total + 1\n",
        "\n",
        "    accuracy = total / len(mnist_valset)\n",
        "\n",
        "    total_val_loss = total_val_loss / (itr + 1)\n",
        "    val_loss.append(total_val_loss)\n",
        "\n",
        "    print('\\nEpoch: {}/{}, Train Loss: {:.8f}, Val Loss: {:.8f}, Val Accuracy: {:.8f}'.format(epoch + 1, no_epochs, total_train_loss, total_val_loss, accuracy))\n",
        "\n",
        "    if total_val_loss < best_val_loss:\n",
        "        best_val_loss = total_val_loss\n",
        "        print(\"Saving the model state dictionary for Epoch: {} with Validation loss: {:.8f}\".format(epoch + 1, total_val_loss))\n",
        "        torch.save(model2.state_dict(), \"model.dth\")\n",
        "\n",
        "fig=plt.figure(figsize=(20, 10))\n",
        "plt.plot(np.arange(1, no_epochs+1), train_loss, label=\"Train loss\")\n",
        "plt.plot(np.arange(1, no_epochs+1), val_loss, label=\"Validation loss\")\n",
        "plt.xlabel('Loss')\n",
        "plt.ylabel('Epochs')\n",
        "plt.title(\"Loss Plots\")\n",
        "plt.legend(loc='upper right')\n",
        "plt.show()"
      ],
      "execution_count": 15,
      "outputs": [
        {
          "output_type": "stream",
          "name": "stdout",
          "text": [
            "\n",
            "Epoch: 1/10, Train Loss: 0.72572777, Val Loss: 0.21497370, Val Accuracy: 0.93433333\n",
            "Saving the model state dictionary for Epoch: 1 with Validation loss: 0.21497370\n",
            "\n",
            "Epoch: 2/10, Train Loss: 0.29611560, Val Loss: 0.13718634, Val Accuracy: 0.95944444\n",
            "Saving the model state dictionary for Epoch: 2 with Validation loss: 0.13718634\n",
            "\n",
            "Epoch: 3/10, Train Loss: 0.22115288, Val Loss: 0.09558784, Val Accuracy: 0.97011111\n",
            "Saving the model state dictionary for Epoch: 3 with Validation loss: 0.09558784\n",
            "\n",
            "Epoch: 4/10, Train Loss: 0.17794892, Val Loss: 0.08472028, Val Accuracy: 0.97511111\n",
            "Saving the model state dictionary for Epoch: 4 with Validation loss: 0.08472028\n",
            "\n",
            "Epoch: 5/10, Train Loss: 0.15499258, Val Loss: 0.07238182, Val Accuracy: 0.97822222\n",
            "Saving the model state dictionary for Epoch: 5 with Validation loss: 0.07238182\n",
            "\n",
            "Epoch: 6/10, Train Loss: 0.13811397, Val Loss: 0.06968473, Val Accuracy: 0.97777778\n",
            "Saving the model state dictionary for Epoch: 6 with Validation loss: 0.06968473\n",
            "\n",
            "Epoch: 7/10, Train Loss: 0.12347376, Val Loss: 0.06197340, Val Accuracy: 0.98022222\n",
            "Saving the model state dictionary for Epoch: 7 with Validation loss: 0.06197340\n",
            "\n",
            "Epoch: 8/10, Train Loss: 0.11270365, Val Loss: 0.05846323, Val Accuracy: 0.98022222\n",
            "Saving the model state dictionary for Epoch: 8 with Validation loss: 0.05846323\n",
            "\n",
            "Epoch: 9/10, Train Loss: 0.10431311, Val Loss: 0.05702650, Val Accuracy: 0.98144444\n",
            "Saving the model state dictionary for Epoch: 9 with Validation loss: 0.05702650\n",
            "\n",
            "Epoch: 10/10, Train Loss: 0.09671029, Val Loss: 0.05352163, Val Accuracy: 0.98244444\n",
            "Saving the model state dictionary for Epoch: 10 with Validation loss: 0.05352163\n"
          ]
        },
        {
          "output_type": "display_data",
          "data": {
            "image/png": "[encoded data removed]",
            "text/plain": [
              "<Figure size 1440x720 with 1 Axes>"
            ]
          },
          "metadata": {
            "needs_background": "light"
          }
        }
      ]
    },
    {
      "cell_type": "code",
      "metadata": {
        "id": "ncoGaz_5Jn2T",
        "colab": {
          "base_uri": "https://localhost:8080/"
        },
        "outputId": "a4eaa791-35af-48f9-ac03-b704e17cdce4"
      },
      "source": [
        "# test model\n",
        "model2.load_state_dict(torch.load(\"model.dth\"))\n",
        "model2.eval()\n",
        "\n",
        "# store correct predictions\n",
        "correct_results = list()\n",
        "# store wrong predictions\n",
        "wrong_results = list()\n",
        "total = 0\n",
        "for itr, (image, label) in enumerate(test_dataloader):\n",
        "\n",
        "    if (torch.cuda.is_available()):\n",
        "        image = image.cuda()\n",
        "        label = label.cuda()\n",
        "\n",
        "    pred = model2(image)\n",
        "    pred = torch.nn.functional.softmax(pred, dim=1)\n",
        "\n",
        "    for i, p in enumerate(pred):\n",
        "        if label[i] == torch.max(p.data, 0)[1]:\n",
        "            total = total + 1\n",
        "            correct_results.append((image, torch.max(p.data, 0)[1]))\n",
        "\n",
        "        else:\n",
        "          wrong_results.append((image, torch.max(p.data, 0)[1]))\n",
        "\n",
        "test_accuracy = total / len(mnist_testset)\n",
        "print('Test accuracy {:.8f}'.format(test_accuracy))"
      ],
      "execution_count": 16,
      "outputs": [
        {
          "output_type": "stream",
          "name": "stdout",
          "text": [
            "Test accuracy 0.98000000\n"
          ]
        }
      ]
    },
    {
      "cell_type": "code",
      "metadata": {
        "id": "at-QTQPon2SN",
        "colab": {
          "base_uri": "https://localhost:8080/"
        },
        "outputId": "69f1d770-de22-4f54-e565-38022a72c012"
      },
      "source": [
        "#Calculate the total number of parameters for model stride 2\n",
        "from prettytable import PrettyTable\n",
        "\n",
        "def count_parameters(model2):\n",
        "    table = PrettyTable([\"Modules\", \"Parameters\"])\n",
        "    total_params = 0\n",
        "    for name, parameter in model2.named_parameters():\n",
        "        if not parameter.requires_grad: continue\n",
        "        param = parameter.numel()\n",
        "        table.add_row([name, param])\n",
        "        total_params+=param\n",
        "    print(table)\n",
        "    print(f\"Total Trainable Params: {total_params}\")\n",
        "    return total_params\n",
        "    \n",
        "count_parameters(model2)"
      ],
      "execution_count": 17,
      "outputs": [
        {
          "output_type": "stream",
          "name": "stdout",
          "text": [
            "+-----------------+------------+\n",
            "|     Modules     | Parameters |\n",
            "+-----------------+------------+\n",
            "|  conv_1.weight  |    288     |\n",
            "|   conv_1.bias   |     32     |\n",
            "|  conv_2.weight  |   18432    |\n",
            "|   conv_2.bias   |     64     |\n",
            "| linear_1.weight |   401408   |\n",
            "|  linear_1.bias  |    128     |\n",
            "| linear_2.weight |    1280    |\n",
            "|  linear_2.bias  |     10     |\n",
            "+-----------------+------------+\n",
            "Total Trainable Params: 421642\n"
          ]
        },
        {
          "output_type": "execute_result",
          "data": {
            "text/plain": [
              "421642"
            ]
          },
          "metadata": {},
          "execution_count": 17
        }
      ]
    },
    {
      "cell_type": "code",
      "metadata": {
        "id": "mQw5lwHkPPfB",
        "colab": {
          "base_uri": "https://localhost:8080/",
          "height": 553
        },
        "outputId": "f0f6d5e4-7336-4c65-b235-49fde41b8554"
      },
      "source": [
        "# visualize correct results\n",
        "fig=plt.figure(figsize=(20, 10))\n",
        "for i in range(1, min(11, len(correct_results))):\n",
        "\n",
        "    img = transforms.ToPILImage(mode='L')(correct_results[0][0][i])\n",
        "    fig.add_subplot(2, 5, i)\n",
        "    plt.title(correct_results[i][1].item())\n",
        "    plt.imshow(img)\n",
        "plt.show()"
      ],
      "execution_count": 18,
      "outputs": [
        {
          "output_type": "display_data",
          "data": {
            "image/png": "[encoded data removed]",
            "text/plain": [
              "<Figure size 1440x720 with 10 Axes>"
            ]
          },
          "metadata": {
            "needs_background": "light"
          }
        }
      ]
    },
    {
      "cell_type": "code",
      "metadata": {
        "id": "c37zuo5rRH_W",
        "colab": {
          "base_uri": "https://localhost:8080/",
          "height": 553
        },
        "outputId": "892711e7-62b9-41aa-ec7d-cede275fc2f4"
      },
      "source": [
        "# visualize wrong results\n",
        "fig=plt.figure(figsize=(20, 10))\n",
        "for i in range(1, min(11, len(wrong_results))):\n",
        "\n",
        "    img = transforms.ToPILImage(mode='L')(wrong_results[0][0][i])\n",
        "    fig.add_subplot(2, 5, i)\n",
        "    plt.title(wrong_results[i][1].item())\n",
        "    plt.imshow(img)\n",
        "plt.show()"
      ],
      "execution_count": 19,
      "outputs": [
        {
          "output_type": "display_data",
          "data": {
            "image/png": "[encoded data removed]",
            "text/plain": [
              "<Figure size 1440x720 with 10 Axes>"
            ]
          },
          "metadata": {
            "needs_background": "light"
          }
        }
      ]
    },
    {
      "cell_type": "markdown",
      "metadata": {
        "id": "O8b_-QpyPUqn"
      },
      "source": [
        "##**• Q3) From the previous question, plot sample successful and failure cases, and try to explain the effect of changing the Stride size on the results.**\n",
        "\n",
        "\n",
        "Stride 1 has higher accurecy and it's make senace bucause stride 1 jump 1 step in Vertically and horizontally to collect more feature data. \n",
        "###- Stride 1 model \n",
        "**training time is 12m &&  Test accuracy 0.99400000**\n",
        "###- Stride 2 model \n",
        "**training time is 10m &&  Test accuracy 0.98200000**"
      ]
    },
    {
      "cell_type": "markdown",
      "metadata": {
        "id": "PXvC14DaTXOi"
      },
      "source": [
        "##**• Q4) [True or False] The softmax activation function is shift-invariant. Explain why you chosen your answer.**\n",
        "\n",
        "True as softmax is just for normalization (e^e^x - e)'highlight higher than bias variances' but it dosen't affect the varincies properlaities .\n",
        "\n",
        "https://datascience.stackexchange.com/a/66855"
      ]
    }
  ]
}